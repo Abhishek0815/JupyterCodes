{
 "cells": [
  {
   "cell_type": "code",
   "execution_count": 10,
   "metadata": {},
   "outputs": [
    {
     "data": {
      "text/plain": [
       "'abba'"
      ]
     },
     "execution_count": 10,
     "metadata": {},
     "output_type": "execute_result"
    }
   ],
   "source": [
    "str='abba'\n",
    "str[::-1]"
   ]
  },
  {
   "cell_type": "code",
   "execution_count": 13,
   "metadata": {},
   "outputs": [
    {
     "name": "stdout",
     "output_type": "stream",
     "text": [
      "abba\n"
     ]
    },
    {
     "data": {
      "text/plain": [
       "'abba'"
      ]
     },
     "execution_count": 13,
     "metadata": {},
     "output_type": "execute_result"
    }
   ],
   "source": [
    "str1=input()\n",
    "str2=str1[::-1]\n",
    "str2"
   ]
  },
  {
   "cell_type": "code",
   "execution_count": null,
   "metadata": {},
   "outputs": [],
   "source": [
    "### find number of Vowel,Consonents,numbers,special charaters in a string"
   ]
  },
  {
   "cell_type": "code",
   "execution_count": 8,
   "metadata": {},
   "outputs": [
    {
     "name": "stdout",
     "output_type": "stream",
     "text": [
      "chgcghae 15\n",
      "2 6 2 1\n"
     ]
    }
   ],
   "source": [
    "def count(str):\n",
    "    v,c,n,s=0,0,0,0\n",
    "    for char in str:\n",
    "        if (char>='a' and char<='z') or (char>='A' and char<='Z'):\n",
    "            str.lower()\n",
    "            if (char=='a' or char=='e' or char=='i' or char=='o' or char=='u'):\n",
    "                v +=1\n",
    "            else:\n",
    "                c +=1\n",
    "        elif (char>='1' and char <='9'):\n",
    "            n +=1\n",
    "        else:\n",
    "            s +=1\n",
    "        \n",
    "    return v,c,n,s\n",
    "str=input()\n",
    "v,c,n,s=count(str)\n",
    "print(v,c,n,s)\n",
    "            "
   ]
  },
  {
   "cell_type": "code",
   "execution_count": null,
   "metadata": {},
   "outputs": [],
   "source": [
    "#####Check 2 strings if in permutaion "
   ]
  },
  {
   "cell_type": "code",
   "execution_count": 30,
   "metadata": {},
   "outputs": [
    {
     "name": "stdout",
     "output_type": "stream",
     "text": [
      "asdfg\n",
      "gfdsa\n",
      "true\n"
     ]
    }
   ],
   "source": [
    "def checkString(str1,str2):\n",
    "    new=256*[0]\n",
    "    n=len(new)\n",
    "    if (len(str1)==len(str2)):\n",
    "        for char in str1:\n",
    "            new[ord(char)] +=1\n",
    "        for char in str2:\n",
    "            new[ord(char)] -=1\n",
    "        for i in range (n):\n",
    "            if new[i] !=0:\n",
    "                break\n",
    "        else:\n",
    "             \n",
    "            print('true')\n",
    "            return\n",
    "        print('false')\n",
    "        return\n",
    "    else:\n",
    "        print('false')\n",
    "str1=input()\n",
    "str2=input()\n",
    "checkString(str1,str2)\n"
   ]
  }
 ],
 "metadata": {
  "kernelspec": {
   "display_name": "Python 3",
   "language": "python",
   "name": "python3"
  },
  "language_info": {
   "codemirror_mode": {
    "name": "ipython",
    "version": 3
   },
   "file_extension": ".py",
   "mimetype": "text/x-python",
   "name": "python",
   "nbconvert_exporter": "python",
   "pygments_lexer": "ipython3",
   "version": "3.8.3"
  }
 },
 "nbformat": 4,
 "nbformat_minor": 4
}
