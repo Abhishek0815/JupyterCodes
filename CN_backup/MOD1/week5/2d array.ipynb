{
 "cells": [
  {
   "cell_type": "code",
   "execution_count": 2,
   "metadata": {},
   "outputs": [
    {
     "data": {
      "text/plain": [
       "[['p', 'a', 'r', 'i', 'k', 'h'], ['a', 'b', 'h', 'i', 's', 'h', 'e', 'k']]"
      ]
     },
     "execution_count": 2,
     "metadata": {},
     "output_type": "execute_result"
    }
   ],
   "source": [
    "li=['parikh','abhishek']\n",
    "li_2d=[[s for s in ele]for ele in li]\n",
    "li_2d\n"
   ]
  },
  {
   "cell_type": "code",
   "execution_count": 3,
   "metadata": {},
   "outputs": [
    {
     "data": {
      "text/plain": [
       "[['p', 'a', 'r', 'i', 'k', 'h'], ['a', 'b', 'h', 'i', 's', 'h', 'e', 'k']]"
      ]
     },
     "execution_count": 3,
     "metadata": {},
     "output_type": "execute_result"
    }
   ],
   "source": [
    "li_2d"
   ]
  },
  {
   "cell_type": "code",
   "execution_count": 8,
   "metadata": {},
   "outputs": [
    {
     "name": "stdout",
     "output_type": "stream",
     "text": [
      "4 5\n",
      "1 2 3 4\n",
      "2 3 4 5\n",
      "3 4 5 6\n",
      "5 4 5 6 7\n"
     ]
    },
    {
     "data": {
      "text/plain": [
       "[[1, 2, 3, 4], [2, 3, 4, 5], [3, 4, 5, 6], [5, 4, 5, 6, 7]]"
      ]
     },
     "execution_count": 8,
     "metadata": {},
     "output_type": "execute_result"
    }
   ],
   "source": [
    "####2d array ip\n",
    "\n",
    "str=input().split()\n",
    "n,m=int(str[0]),int(str[1])\n",
    "\n",
    "li_2d=[[int(j) for j in input().split()]for i in range(n)]\n",
    "li_2d"
   ]
  },
  {
   "cell_type": "markdown",
   "metadata": {},
   "source": [
    "### 2d array in one line"
   ]
  },
  {
   "cell_type": "code",
   "execution_count": 10,
   "metadata": {},
   "outputs": [
    {
     "name": "stdout",
     "output_type": "stream",
     "text": [
      "3 4 1 2 3 4 5 6 7 8 9 5 3 2 4 6 5 4 32 2\n"
     ]
    },
    {
     "data": {
      "text/plain": [
       "[[1, 2, 3, 4], [5, 6, 7, 8], [9, 5, 3, 2]]"
      ]
     },
     "execution_count": 10,
     "metadata": {},
     "output_type": "execute_result"
    }
   ],
   "source": [
    "str=input().split()\n",
    "n,m=int(str[0]),int(str[1])\n",
    "b=str[2:]\n",
    "arr=[[int(b[m*i+j])for j in range (m)]for i in range(n)]\n",
    "arr\n"
   ]
  },
  {
   "cell_type": "markdown",
   "metadata": {},
   "source": [
    "#### Largest column sum index"
   ]
  },
  {
   "cell_type": "code",
   "execution_count": 11,
   "metadata": {},
   "outputs": [
    {
     "name": "stdout",
     "output_type": "stream",
     "text": [
      "19 3\n"
     ]
    }
   ],
   "source": [
    "def max_col_index(li,n,m):\n",
    "    sum=0\n",
    "    max=-1\n",
    "    for j in range(m):\n",
    "        sum=0\n",
    "        for ele in li:\n",
    "            sum +=ele[j]\n",
    "        if sum>max:\n",
    "            max=sum\n",
    "            max_col_index=j\n",
    "    return max,max_col_index\n",
    "\n",
    "\n",
    "li=[[1,2,3,4],[2,3,4,5],[3,4,5,6],[1,2,3,4]]\n",
    "n=len(li)\n",
    "m=len(li[0])\n",
    "max_sum,max_col_index=max_col_index(li,n,m)\n",
    "print(max_sum,max_col_index)"
   ]
  },
  {
   "cell_type": "code",
   "execution_count": null,
   "metadata": {},
   "outputs": [],
   "source": [
    "Row Wise Sum\n",
    "Send Feedback\n",
    "For a given two-dimensional integer array/list of size (N x M), find and print the sum of each of the row elements in a single line, separated by a single space.\n",
    "Input Format :\n",
    "The first line contains an Integer 't' which denotes the number of test cases or queries to be run. Then the test cases follow.\n",
    "\n",
    "First line of each test case or query contains two integer values, 'N' and 'M', separated by a single space. They represent the 'rows' and 'columns' respectively, for the two-dimensional array/list.\n",
    "\n",
    "Second line onwards, the next 'N' lines or rows represent the ith row values.\n",
    "\n",
    "Each of the ith row constitutes 'M' column values separated by a single space.\n",
    "Output Format :\n",
    "For each test case, print the sum of every ith row elements in a single line separated by a single space.\n",
    "\n",
    "Output for every test case will be printed in a seperate line.\n",
    "Constraints :\n",
    "1 <= t <= 10^2\n",
    "0 <= N <= 10^3\n",
    "0 <= M <= 10^3\n",
    "Time Limit: 1sec\n",
    "Sample Input 1:\n",
    "1\n",
    "4 2 \n",
    "1 2 \n",
    "3 4 \n",
    "5 6 \n",
    "7 8\n",
    "Sample Output 1:\n",
    "3 7 11 15 \n",
    "Sample Input 2:\n",
    "2\n",
    "2 5 \n",
    "4 5 3 2 6 \n",
    "7 5 3 8 9\n",
    "4 4\n",
    "1 2 3 4\n",
    "9 8 7 6\n",
    "3 4 5 6\n",
    "-1 1 -10 5\n",
    "Sample Output 2:\n",
    "20 32 \n",
    "10 30 18 -5 "
   ]
  },
  {
   "cell_type": "code",
   "execution_count": null,
   "metadata": {},
   "outputs": [],
   "source": [
    "from sys import stdin\n",
    "\n",
    "def rowWiseSum(mat, nRows, mCols):\n",
    "    #Your code goes here\n",
    "    a=0\n",
    "    out=[]\n",
    "    for i in range(nRows):\n",
    "        a=0\n",
    "        for j in range(mCols):\n",
    "            a =a+mat[i][j]\n",
    "        out.append(a)\n",
    "    for ele in out:\n",
    "        print(ele,end=' ')\n",
    "#t = int(stdin.readline().rstrip())\n",
    "mat=[[1,2],[2,3],[3,4],[3,3]]\n",
    "nRows=4\n",
    "mCols=2\n",
    "rowWiseSum(mat, nRows, mCols)\n",
    "print()\n"
   ]
  },
  {
   "cell_type": "code",
   "execution_count": null,
   "metadata": {},
   "outputs": [],
   "source": [
    "Largest Row or Column\n",
    "Send Feedback\n",
    "For a given two-dimensional integer array/list of size (N x M), you need to find out which row or column has the largest sum(sum of all the elements in a row/column) amongst all the rows and columns.\n",
    "Note :\n",
    "If there are more than one rows/columns with maximum sum, consider the row/column that comes first. And if ith row and jth column has the same largest sum, consider the ith row as answer.\n",
    "Input Format :\n",
    "The first line contains an Integer 't' which denotes the number of test cases or queries to be run. Then the test cases follow.\n",
    "\n",
    "First line of each test case or query contains two integer values, 'N' and 'M', separated by a single space. They represent the 'rows' and 'columns' respectively, for the two-dimensional array/list.\n",
    "\n",
    "Second line onwards, the next 'N' lines or rows represent the ith row values.\n",
    "\n",
    "Each of the ith row constitutes 'M' column values separated by a single space.\n",
    "Output Format :\n",
    "For each test case, If row sum is maximum, then print: \"row\" <row_index> <row_sum>\n",
    "OR\n",
    "If column sum is maximum, then print: \"column\" <col_index> <col_sum>\n",
    "It will be printed in a single line separated by a single space between each piece of information.\n",
    "\n",
    "Output for every test case will be printed in a seperate line.\n",
    " Consider :\n",
    "If there doesn't exist a sum at all then print \"row 0 -2147483648\", where -2147483648 or -2^31 is the smallest value for the range of Integer.\n",
    "Constraints :\n",
    "1 <= t <= 10^2\n",
    "0 <= N <= 10^3\n",
    "0 <= M <= 10^3\n",
    "Time Limit: 1sec\n",
    "Sample Input 1 :\n",
    "1\n",
    "2 2 \n",
    "1 1 \n",
    "1 1\n",
    "Sample Output 1 :\n",
    "row 0 2\n",
    "Sample Input 2 :\n",
    "2\n",
    "3 3\n",
    "3 6 9 \n",
    "1 4 7 \n",
    "2 8 9\n",
    "4 2\n",
    "1 2\n",
    "90 100\n",
    "3 40\n",
    "-10 200\n",
    "Sample Output 2 :\n",
    "column 2 25\n",
    "column 1 342"
   ]
  },
  {
   "cell_type": "code",
   "execution_count": 12,
   "metadata": {},
   "outputs": [
    {
     "ename": "IndexError",
     "evalue": "list index out of range",
     "output_type": "error",
     "traceback": [
      "\u001b[1;31m---------------------------------------------------------------------------\u001b[0m",
      "\u001b[1;31mIndexError\u001b[0m                                Traceback (most recent call last)",
      "\u001b[1;32m<ipython-input-12-c3e37ce87d2a>\u001b[0m in \u001b[0;36m<module>\u001b[1;34m\u001b[0m\n\u001b[0;32m     39\u001b[0m \u001b[0mnRows\u001b[0m\u001b[1;33m=\u001b[0m\u001b[1;36m4\u001b[0m\u001b[1;33m\u001b[0m\u001b[1;33m\u001b[0m\u001b[0m\n\u001b[0;32m     40\u001b[0m \u001b[0mmCols\u001b[0m\u001b[1;33m=\u001b[0m\u001b[1;36m2\u001b[0m\u001b[1;33m\u001b[0m\u001b[1;33m\u001b[0m\u001b[0m\n\u001b[1;32m---> 41\u001b[1;33m \u001b[0mfindLargest\u001b[0m\u001b[1;33m(\u001b[0m\u001b[0mmat\u001b[0m\u001b[1;33m,\u001b[0m \u001b[0mnRows\u001b[0m\u001b[1;33m,\u001b[0m \u001b[0mmCols\u001b[0m\u001b[1;33m)\u001b[0m\u001b[1;33m\u001b[0m\u001b[1;33m\u001b[0m\u001b[0m\n\u001b[0m\u001b[0;32m     42\u001b[0m \u001b[0mprint\u001b[0m\u001b[1;33m(\u001b[0m\u001b[1;33m)\u001b[0m\u001b[1;33m\u001b[0m\u001b[1;33m\u001b[0m\u001b[0m\n\u001b[0;32m     43\u001b[0m \u001b[1;33m\u001b[0m\u001b[0m\n",
      "\u001b[1;32m<ipython-input-12-c3e37ce87d2a>\u001b[0m in \u001b[0;36mfindLargest\u001b[1;34m(li, nRows, mCols)\u001b[0m\n\u001b[0;32m     18\u001b[0m         \u001b[0msum\u001b[0m\u001b[1;33m=\u001b[0m\u001b[1;36m0\u001b[0m\u001b[1;33m\u001b[0m\u001b[1;33m\u001b[0m\u001b[0m\n\u001b[0;32m     19\u001b[0m         \u001b[1;32mfor\u001b[0m \u001b[0mele\u001b[0m \u001b[1;32min\u001b[0m \u001b[0mli\u001b[0m\u001b[1;33m:\u001b[0m\u001b[1;33m\u001b[0m\u001b[1;33m\u001b[0m\u001b[0m\n\u001b[1;32m---> 20\u001b[1;33m             \u001b[0msum\u001b[0m \u001b[1;33m+=\u001b[0m\u001b[0mele\u001b[0m\u001b[1;33m[\u001b[0m\u001b[0mi\u001b[0m\u001b[1;33m]\u001b[0m\u001b[1;33m\u001b[0m\u001b[1;33m\u001b[0m\u001b[0m\n\u001b[0m\u001b[0;32m     21\u001b[0m         \u001b[1;32mif\u001b[0m \u001b[0msum\u001b[0m\u001b[1;33m>\u001b[0m\u001b[0mmax_row\u001b[0m\u001b[1;33m:\u001b[0m\u001b[1;33m\u001b[0m\u001b[1;33m\u001b[0m\u001b[0m\n\u001b[0;32m     22\u001b[0m             \u001b[0mmax_row\u001b[0m\u001b[1;33m=\u001b[0m\u001b[0msum\u001b[0m\u001b[1;33m\u001b[0m\u001b[1;33m\u001b[0m\u001b[0m\n",
      "\u001b[1;31mIndexError\u001b[0m: list index out of range"
     ]
    }
   ],
   "source": [
    "'''\n",
    "    In order to print two or more integers in a line separated by a single \n",
    "    space then you may consider printing it with the statement, \n",
    "\n",
    "    print(str(num1) + \" \" + str(num2))\n",
    "\n",
    "'''\n",
    "\n",
    "from sys import stdin\n",
    "\n",
    "def findLargest(li, nRows, mCols):\n",
    "    #Your code goes here\n",
    "    max_row=-(2**31)\n",
    "    max_row_index=0\n",
    "    max_col_index=0\n",
    "    max_col=-(2**31)\n",
    "    for i in range(nRows):\n",
    "        sum=0\n",
    "        for j in range (mCols):\n",
    "            sum +=li[i][j]\n",
    "        if sum>max_row:\n",
    "            max_row=sum\n",
    "            max_row_index=i\n",
    "    for j in range(mCols):\n",
    "        sum=0\n",
    "        for ele in li:\n",
    "            sum +=ele[j]\n",
    "        if sum>max_col:\n",
    "            max_col=sum\n",
    "            max_col_index=j\n",
    "    if max_row>=max_col:\n",
    "        print('row'+' '+str(max_row_index)+' '+str(max_row))\n",
    "    else:\n",
    "        print('column'+' '+str(max_col_index)+' '+str(max_col))\n",
    "\n",
    "\n",
    "#Taking Input Using Fast I/O\n",
    "def take2DInput() :\n",
    "    li = stdin.readline().rstrip().split(\" \")\n",
    "    nRows = int(li[0])\n",
    "    mCols = int(li[1])\n",
    "    \n",
    "    if nRows == 0 :\n",
    "        return list(), 0, 0\n",
    "    \n",
    "    mat = [list(map(int, input().strip().split(\" \"))) for row in range(nRows)]\n",
    "    return mat, nRows, mCols\n",
    "\n",
    "\n",
    "#main\n",
    "t = int(stdin.readline().rstrip())\n",
    "\n",
    "while t > 0 :\n",
    "\n",
    "    mat, nRows, mCols = take2DInput()\n",
    "    findLargest(mat, nRows, mCols)\n",
    "\n",
    "    t -= 1"
   ]
  },
  {
   "cell_type": "markdown",
   "metadata": {},
   "source": [
    "Wave Print\n",
    "Send Feedback\n",
    "For a given two-dimensional integer array/list of size (N x M), print the array/list in a sine wave order, i.e, print the first column top to bottom, next column bottom to top and so on.\n",
    "Input format :\n",
    "The first line contains an Integer 't' which denotes the number of test cases or queries to be run. Then the test cases follow.\n",
    "\n",
    "First line of each test case or query contains two integer values, 'N' and 'M', separated by a single space. They represent the 'rows' and 'columns' respectively, for the two-dimensional array/list.\n",
    "\n",
    "Second line onwards, the next 'N' lines or rows represent the ith row values.\n",
    "\n",
    "Each of the ith row constitutes 'M' column values separated by a single space.\n",
    "Output format :\n",
    "For each test case, print the elements of the two-dimensional array/list in the sine wave order in a single line, separated by a single space.\n",
    "\n",
    "Output for every test case will be printed in a seperate line.\n",
    "Constraints :\n",
    "1 <= t <= 10^2\n",
    "0 <= N <= 10^3\n",
    "0 <= M <= 10^3\n",
    "Time Limit: 1sec\n",
    "Sample Input 1:\n",
    "1\n",
    "3 4 \n",
    "1  2  3  4 \n",
    "5  6  7  8 \n",
    "9 10 11 12\n",
    "Sample Output 1:\n",
    "1 5 9 10 6 2 3 7 11 12 8 4\n",
    "Sample Input 2:\n",
    "2\n",
    "5 3 \n",
    "1 2 3 \n",
    "4 5 6 \n",
    "7 8 9 \n",
    "10 11 12 \n",
    "13 14 15\n",
    "3 3\n",
    "10 20 30 \n",
    "40 50 60\n",
    "70 80 90\n",
    "Sample Output 2:\n",
    "1 4 7 10 13 14 11 8 5 2 3 6 9 12 15 \n",
    "10 40 70 80 50 20 30 60 90 "
   ]
  },
  {
   "cell_type": "code",
   "execution_count": null,
   "metadata": {},
   "outputs": [],
   "source": [
    "from sys import stdin\n",
    "\n",
    "def wavePrint(mat, nRows, mCols):\n",
    "    for j in range (mCols):\n",
    "        if (j%2==0):\n",
    "            for i in range(nRows):\n",
    "                print(mat[i][j],end=' ')\n",
    "        else:\n",
    "            for i in range(nRows-1,-1,-1):\n",
    "                print(mat[i][j],end=' ')\n",
    "#Taking Iput Using Fast I/O\n",
    "def take2DInput() :\n",
    "    li = stdin.readline().rstrip().split(\" \")\n",
    "    nRows = int(li[0])\n",
    "    mCols = int(li[1])\n",
    "    \n",
    "    if nRows == 0 :\n",
    "        return list(), 0, 0\n",
    "    \n",
    "    mat = [list(map(int, input().strip().split(\" \"))) for row in range(nRows)]\n",
    "    return mat, nRows, mCols\n",
    "\n",
    "\n",
    "#main\n",
    "t = int(stdin.readline().rstrip())\n",
    "\n",
    "while t > 0 :\n",
    "\n",
    "    mat, nRows, mCols = take2DInput()\n",
    "    wavePrint(mat, nRows, mCols)\n",
    "    print()\n",
    "\n",
    "    t -= 1"
   ]
  },
  {
   "cell_type": "markdown",
   "metadata": {},
   "source": [
    "For a given two-dimensional integer array/list of size (N x M), print it in a spiral form. That is, you need to print in the order followed for every iteration:\n",
    "a. First row(left to right)\n",
    "b. Last column(top to bottom)\n",
    "c. Last row(right to left)\n",
    "d. First column(bottom to top)\n",
    " Mind that every element will be printed only once.\n",
    "Refer to the Image:\n",
    "Alt txt\n",
    "\n",
    "Input format :\n",
    "The first line contains an Integer 't' which denotes the number of test cases or queries to be run. Then the test cases follow.\n",
    "\n",
    "First line of each test case or query contains two integer values, 'N' and 'M', separated by a single space. They represent the 'rows' and 'columns' respectively, for the two-dimensional array/list.\n",
    "\n",
    "Second line onwards, the next 'N' lines or rows represent the ith row values.\n",
    "\n",
    "Each of the ith row constitutes 'M' column values separated by a single space.\n",
    "Output format :\n",
    "For each test case, print the elements of the two-dimensional array/list in the spiral form in a single line, separated by a single space.\n",
    "\n",
    "Output for every test case will be printed in a seperate line.\n",
    "Constraints :\n",
    "1 <= t <= 10^2\n",
    "0 <= N <= 10^3\n",
    "0 <= M <= 10^3\n",
    "Time Limit: 1sec\n",
    "Sample Input 1:\n",
    "1\n",
    "4 4 \n",
    "1 2 3 4 \n",
    "5 6 7 8 \n",
    "9 10 11 12 \n",
    "13 14 15 16\n",
    "Sample Output 1:\n",
    "1 2 3 4 8 12 16 15 14 13 9 5 6 7 11 10 "
   ]
  },
  {
   "cell_type": "code",
   "execution_count": 16,
   "metadata": {},
   "outputs": [
    {
     "name": "stdout",
     "output_type": "stream",
     "text": [
      "1 2 3 4 5 11 17 5 4 3 2 1 13 7 8 9 10 16 15 14 "
     ]
    }
   ],
   "source": [
    "def spiralPrint(R,C,a):\n",
    "    CS=0\n",
    "    CE=C-1\n",
    "    RS=0\n",
    "    RE=R-1\n",
    "    count=0\n",
    "    while(count<(R*C)):\n",
    "        \n",
    "        for j in range(CS,CE+1):\n",
    "            print(a[RS][j],end=' ')\n",
    "            count +=1\n",
    "        if count==(R*C):\n",
    "            break\n",
    "        RS +=1\n",
    "        for i in range(RS,RE+1):\n",
    "            print(a[i][CE],end=' ')\n",
    "            count +=1\n",
    "        if count==(R*C):\n",
    "            break\n",
    "        CE=CE-1\n",
    "        for j in range(CE,CS-1,-1):\n",
    "            print(a[RE][j],end=' ')\n",
    "            count +=1\n",
    "        if count==(R*C):\n",
    "            break\n",
    "        RE -=1\n",
    "        for i in range(RE,RS-1,-1):\n",
    "            print(a[i][CS],end=' ')\n",
    "            count +=1\n",
    "        if count==(R*C):\n",
    "            break\n",
    "        CS=CS+1\n",
    "            \n",
    "\n",
    "\n",
    "a = [ [1, 2, 3, 4, 5], \n",
    "      [7, 8, 9, 10, 11], \n",
    "      [13, 14, 15, 16, 17],\n",
    "    [1,2,3,4,5]] \n",
    "        \n",
    "R = 4; C = 5\n",
    "spiralPrint(R, C, a)"
   ]
  }
 ],
 "metadata": {
  "kernelspec": {
   "display_name": "Python 3",
   "language": "python",
   "name": "python3"
  },
  "language_info": {
   "codemirror_mode": {
    "name": "ipython",
    "version": 3
   },
   "file_extension": ".py",
   "mimetype": "text/x-python",
   "name": "python",
   "nbconvert_exporter": "python",
   "pygments_lexer": "ipython3",
   "version": "3.8.3"
  }
 },
 "nbformat": 4,
 "nbformat_minor": 4
}
