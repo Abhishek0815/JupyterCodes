{
 "cells": [
  {
   "cell_type": "markdown",
   "metadata": {},
   "source": [
    "##Assignment String\n",
    "Given a string, S, remove all the consecutive duplicates that are present in the given string. That means, if 'aaa' is present in the string then it should become 'a' in the output string.\n"
   ]
  },
  {
   "cell_type": "code",
   "execution_count": null,
   "metadata": {},
   "outputs": [],
   "source": [
    "def checkString(str1,str2):\n",
    "    new=256*[0]\n",
    "    n=len(new)\n",
    "    if (len(str1)==len(str2)):\n",
    "        for char in str1:\n",
    "            new[ord(char)] +=1\n",
    "        for char in str2:\n",
    "            new[ord(char)] -=1\n",
    "        for i in range (n):\n",
    "            if new[i] !=0:\n",
    "                break\n",
    "        else:\n",
    "             \n",
    "            print('true')\n",
    "            return\n",
    "        print('false')\n",
    "        return\n",
    "    else:\n",
    "        print('false')\n",
    "str1=input()\n",
    "str2=input()\n",
    "checkString(str1,str2)\n"
   ]
  },
  {
   "cell_type": "markdown",
   "metadata": {},
   "source": [
    "#remove consicutive string\n",
    "\n",
    "Given a string, S, remove all the consecutive duplicates that are present in the given string. That means, if 'aaa' is present in the string then it should become 'a' in the output string"
   ]
  },
  {
   "cell_type": "code",
   "execution_count": 3,
   "metadata": {},
   "outputs": [
    {
     "name": "stdout",
     "output_type": "stream",
     "text": [
      "ab\n",
      "ab\n"
     ]
    }
   ],
   "source": [
    "##consicutive repeat\n",
    "\n",
    "def Remove_repeat(str):\n",
    "    n=len(str)\n",
    "    count=1\n",
    "    str2=''\n",
    "    i=0\n",
    "    for j in range(i+1,n):\n",
    "        if (str[i] == str[j] and j !=n-1):\n",
    "            count +=1\n",
    "            continue\n",
    "        str2 +=str[i]\n",
    "        i = i+ count\n",
    "        count=1\n",
    "    if (str2[-1]!=str[-1]):\n",
    "        str2 +=str[-1]\n",
    "    \n",
    "    return str2\n",
    "    \n",
    "str=input()\n",
    "str=Remove_repeat(str)\n",
    "print(str)\n"
   ]
  },
  {
   "cell_type": "code",
   "execution_count": 11,
   "metadata": {},
   "outputs": [
    {
     "name": "stdout",
     "output_type": "stream",
     "text": [
      "abaabjjj\n",
      "ababj\n"
     ]
    }
   ],
   "source": [
    "##consecutive repeat\n",
    "\n",
    "def Remove_repeat(str):\n",
    "    n=len(str)\n",
    "    count=1\n",
    "    str2=''\n",
    "    i=0\n",
    "    for j in range(i+1,n):\n",
    "        if (str[i] == str[j] and j !=n-1):\n",
    "            count +=1\n",
    "            continue\n",
    "        str2 +=str[i]\n",
    "        i = i+ count\n",
    "        count=1\n",
    "    \n",
    "    return str2\n",
    "    \n",
    "str=input()\n",
    "str=Remove_repeat(str)\n",
    "print(str)\n"
   ]
  },
  {
   "cell_type": "markdown",
   "metadata": {},
   "source": [
    "Reverse Each Word\n",
    "Send Feedback\n",
    "Given a string S, reverse each word of a string individually. For eg. if a string is \"abc def\", reversed string should be \"cba fed\".\n",
    "Input Format :\n",
    "String S\n",
    "Output Format :\n",
    "Modified string\n",
    "Constraints :\n",
    "0 <= |S| <= 10^7\n",
    "where |S| represents the length of string, S.\n",
    "Sample Input 1:\n",
    "Welcome to Coding Ninjas\n",
    "Sample Output 1:\n",
    "emocleW ot gnidoC sajniN\n",
    "Sample Input 2:\n",
    "Give proper names to variables and functions\n",
    "Sample Output 2:\n",
    "eviG reporp seman ot selbairav dna snoitcnuf"
   ]
  },
  {
   "cell_type": "code",
   "execution_count": 39,
   "metadata": {},
   "outputs": [
    {
     "name": "stdout",
     "output_type": "stream",
     "text": [
      "ym eman si kehsihba  "
     ]
    }
   ],
   "source": [
    "str=\"my name is abhishek\"\n",
    "str=str.split()\n",
    "str2=''\n",
    "for i in range(len(str)): \n",
    "    str1=str[i]\n",
    "    str1=str1[::-1]\n",
    "    str2 +=str1+','\n",
    "str2=str2.split(',')\n",
    "for char in str2:\n",
    "    print(char,end=' ')\n"
   ]
  },
  {
   "cell_type": "code",
   "execution_count": 20,
   "metadata": {},
   "outputs": [
    {
     "data": {
      "text/plain": [
       "['abhishek', 'is', 'name', 'my']"
      ]
     },
     "execution_count": 20,
     "metadata": {},
     "output_type": "execute_result"
    }
   ],
   "source": [
    "str[::-1]\n",
    "    "
   ]
  },
  {
   "cell_type": "markdown",
   "metadata": {},
   "source": [
    "Remove character\n",
    "Send Feedback\n",
    "Given a string and a character x. Write a function to remove all occurrences of x character from the given string.\n",
    "Leave the string as it is, if the given character is not present in the string.\n",
    "\n",
    "\n",
    "Input Format :\n",
    "Line 1 : String S\n",
    "Line 2 : Character c\n",
    "Output Format :\n",
    "Modified string\n",
    "Constraints :\n",
    "0 <= |S| <= 10^7\n",
    "where |S| represents the length of string, S.\n",
    "Sample Input 1:\n",
    "welcome to coding ninjas\n",
    "o\n",
    "Sample Output 1:\n",
    "welcme t cding ninjas\n",
    "Sample Input 2:\n",
    "Think of edge cases before submitting solutions\n",
    "x\n",
    "Sample Output 2:\n",
    "Think of edge cases before submitting solution"
   ]
  },
  {
   "cell_type": "code",
   "execution_count": 53,
   "metadata": {},
   "outputs": [
    {
     "data": {
      "text/plain": [
       "'wlcom'"
      ]
     },
     "execution_count": 53,
     "metadata": {},
     "output_type": "execute_result"
    }
   ],
   "source": [
    "def remove(char,n):\n",
    "    new=''\n",
    "    for i in range(n):\n",
    "        if str[i]==char:\n",
    "            continue\n",
    "        new +=str[i]\n",
    "    return new\n",
    "\n",
    "\n",
    "\n",
    "\n",
    "str=input()\n",
    "char=input()\n",
    "n=len(str)\n",
    "str=remove(char,n)\n",
    "print(str)"
   ]
  },
  {
   "cell_type": "markdown",
   "metadata": {},
   "source": [
    "Highest Occurring Character\n",
    "Send Feedback\n",
    "Given a string, S, find and return the highest occurring character present in the given string.\n",
    "If there are 2 characters in the input string with same frequency, return the character which comes first.\n",
    "\n",
    "\n",
    "Note : Assume all the characters in the given string are lowercase.\n",
    "\n",
    "\n",
    "Input format :\n",
    "String S\n",
    "Output format :\n",
    "Highest occurring character\n",
    "Constraints :\n",
    "0 <= |S| <= 10^7\n",
    "where |S| represents the length of string, S.\n",
    "Sample Input 1:\n",
    "abdefgbabfba\n",
    "Sample Output 1:\n",
    "b\n",
    "Sample Input 2:\n",
    "xy\n",
    "Sample Output 2:\n",
    "x"
   ]
  },
  {
   "cell_type": "code",
   "execution_count": null,
   "metadata": {},
   "outputs": [],
   "source": [
    "## Read input as specified in the question.\n",
    "## Print output as specified in the question.\n",
    "def maxOccuring(str):\n",
    "    list=256*[0]\n",
    "    #max=-2147\n",
    "    for char in str:\n",
    "        list[ord(char)] +=1\n",
    "    max=str[0]\n",
    "    freq=list[ord(max)]\n",
    "    for i in range(n):\n",
    "\n",
    "        if (str[i]!=max and freq<(list[ord(str[i])])):\n",
    "            max=str[i]\n",
    "            freq=(list[ord(str[i])])\n",
    "    return max\n",
    "    \n",
    "\n",
    "str=input()\n",
    "n=len(str)\n",
    "out=maxOccuring(str)\n",
    "print(out)"
   ]
  },
  {
   "cell_type": "markdown",
   "metadata": {},
   "source": [
    "Compress the String\n",
    "Send Feedback\n",
    "Write a program to do basic string compression. For a character which is consecutively repeated more than once, replace consecutive duplicate occurrences with the count of repetitions.\n",
    "For e.g. if a String has 'x' repeated 5 times, replace this \"xxxxx\" with \"x5\".\n",
    "Note : Consecutive count of every character in input string is less than equal to 9.\n",
    "\n",
    "\n",
    "Input Format :\n",
    "The first and the only line of input contains a string(no spaces in between).\n",
    "Output Format :\n",
    "Compressed string \n",
    "Constraints :\n",
    "0 <= |S| <= 10^7\n",
    "Where |S| represents the length of string, S.\n",
    "\n",
    "Time Limit: 1sec\n",
    "Sample Input 1 :\n",
    "aaabbccdsa\n",
    "Sample Output 1 :\n",
    "a3b2c2dsa\n",
    "Sample Input 2 :\n",
    "aaabbcddeeeee\n",
    "Sample Output 2 :\n",
    "a3b2cd2e5"
   ]
  },
  {
   "cell_type": "code",
   "execution_count": 22,
   "metadata": {},
   "outputs": [
    {
     "name": "stdout",
     "output_type": "stream",
     "text": [
      "aaabccc\n",
      "['a', 3, 'b']\n"
     ]
    }
   ],
   "source": [
    "## Read input as specified in the question.\n",
    "## Print output as specified in the question.\n",
    "def maxOccuring(str):\n",
    "    list=256*[0]\n",
    "    #max=-2147\n",
    "    li=[]\n",
    "    for char in str:\n",
    "        list[ord(char)] +=1\n",
    "    count=1\n",
    "    i=0\n",
    "    for j in range(i+1,n):\n",
    "        if (str[i]==str[j] ):\n",
    "            count+=1\n",
    "            continue\n",
    "        li.append(str[i])\n",
    "        \n",
    "        if count>1:\n",
    "            li.append(count)\n",
    "        i=i+count\n",
    "        count=1\n",
    "        \n",
    "    li.append(str[-1])\n",
    "    if count>1:\n",
    "        li.append(count)\n",
    "    return li\n",
    "        \n",
    "        \n",
    "    \n",
    "\n",
    "str=input()\n",
    "n=len(str)\n",
    "out=maxOccuring(str)\n",
    "for ele in out:\n",
    "    print(ele,end='')\n"
   ]
  }
 ],
 "metadata": {
  "kernelspec": {
   "display_name": "Python 3",
   "language": "python",
   "name": "python3"
  },
  "language_info": {
   "codemirror_mode": {
    "name": "ipython",
    "version": 3
   },
   "file_extension": ".py",
   "mimetype": "text/x-python",
   "name": "python",
   "nbconvert_exporter": "python",
   "pygments_lexer": "ipython3",
   "version": "3.8.3"
  }
 },
 "nbformat": 4,
 "nbformat_minor": 4
}
