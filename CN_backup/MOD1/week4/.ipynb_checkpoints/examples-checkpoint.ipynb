{
 "cells": [
  {
   "cell_type": "markdown",
   "metadata": {},
   "source": [
    "Searching and Sorting"
   ]
  },
  {
   "cell_type": "code",
   "execution_count": null,
   "metadata": {},
   "outputs": [],
   "source": [
    "Code Binary Search\n",
    "Send Feedback\n",
    "You have been given a sorted(in ascending order) integer array/list(ARR) of size N and an element X. Write a function to search this element in the given input array/list using 'Binary Search'. Return the index of the element in the input array/list. In case the element is not present in the array/list, then return -1.\n",
    "Input format :\n",
    "The first line contains an Integer 'N' which denotes the size of the array/list.\n",
    "\n",
    "Second line contains 'N' single space separated integers representing the elements in the array/list.\n",
    "\n",
    "Third line contains an Integer 't' which denotes the number of test cases or queries to be run. Then the test cases follow..\n",
    "\n",
    "All the 't' lines henceforth, will take the value of X to be searched for in the array/list.\n",
    "Output Format :\n",
    "For each test case, print the index at which X is present, -1 otherwise.\n",
    "\n",
    "Output for every test case will be printed in a separate line.\n",
    "Constraints :\n",
    "1 <= t <= 10^4\n",
    "0 <= N <= 10^6\n",
    "0 <= X <= 10^9\n",
    "Time Limit: 1 sec\n",
    "Sample Input 1:\n",
    "7\n",
    "1 3 7 9 11 12 45\n",
    "1\n",
    "3\n",
    "Sample Output 1:\n",
    "1\n",
    "Sample Input 2:\n",
    "7\n",
    "1 2 3 4 5 6 7\n",
    "2\n",
    "9\n",
    "7\n",
    "Sample Output 2:\n",
    "-1\n",
    "6"
   ]
  },
  {
   "cell_type": "code",
   "execution_count": 21,
   "metadata": {},
   "outputs": [
    {
     "name": "stdout",
     "output_type": "stream",
     "text": [
      "7\n",
      "1 2 3 4 5 6 7\n",
      "2\n",
      "9\n",
      "-1\n",
      "7\n",
      "6\n"
     ]
    }
   ],
   "source": [
    "from sys import stdin\n",
    "\n",
    "\n",
    "def binarySearch(arr, n, x) :\n",
    "    #Your code goes here\n",
    "    start=0\n",
    "    end=n-1\n",
    "    mid=(start+end)//2\n",
    "    while(start<=end):\n",
    "        if x>arr[mid]:\n",
    "            start=mid+1\n",
    "            mid=(start+end)//2\n",
    "        elif x<arr[mid]:\n",
    "            end=mid-1\n",
    "            mid=(start+end)//2\n",
    "        elif x==arr[mid]:\n",
    "            return mid\n",
    "    return -1\n",
    "\n",
    "#Taking Input Using Fast I/O\n",
    "def takeInput() :\n",
    "    n = int(input())\n",
    "    \n",
    "    if n == 0 :\n",
    "        return list(), 0\n",
    "\n",
    "    arr = [int(x) for x in input().split()]\n",
    "    return arr, n\n",
    "\n",
    "\n",
    "#main\n",
    "arr, n = takeInput()\n",
    "t = int(input())\n",
    "\n",
    "while t > 0 :\n",
    "    \n",
    "    x = int(input().strip())      \n",
    "    print(binarySearch(arr, n, x))\n",
    "    t -= 1"
   ]
  },
  {
   "cell_type": "markdown",
   "metadata": {},
   "source": [
    "selection sort"
   ]
  },
  {
   "cell_type": "code",
   "execution_count": 31,
   "metadata": {},
   "outputs": [
    {
     "name": "stdout",
     "output_type": "stream",
     "text": [
      "5 4 6 2 1 4 0 5 8 3\n",
      "0123445568"
     ]
    }
   ],
   "source": [
    "arr=[int(X)for X in input().split()]\n",
    "n=len(arr)\n",
    "for count in range(n-1):\n",
    "    min=arr[count]\n",
    "    j=count\n",
    "    for i in range(count+1,n):\n",
    "        if arr[i]<min:\n",
    "            min=arr[i]\n",
    "            j=i\n",
    "    arr[count],arr[j]=min,arr[count]\n",
    "for ele in arr:\n",
    "    print(ele,end='')"
   ]
  },
  {
   "cell_type": "code",
   "execution_count": null,
   "metadata": {},
   "outputs": [],
   "source": [
    "Bubble sort"
   ]
  },
  {
   "cell_type": "code",
   "execution_count": 34,
   "metadata": {},
   "outputs": [
    {
     "name": "stdout",
     "output_type": "stream",
     "text": [
      "6\n",
      "1 7 4 0 9 4\n",
      "0 1 4 7 9 4 \n"
     ]
    }
   ],
   "source": [
    "from sys import stdin\n",
    "\n",
    "def bubbleSort(arr, n) :\n",
    "    #Your code goes here\n",
    "    for i in range(n-1):\n",
    "        for j in range(0,n-1-i):\n",
    "            if arr[j]>arr[j+1]:\n",
    "                arr[j],arr[j+1]=arr[j+1],arr[j]\n",
    "                \n",
    "#Taking Input Using Fast I/O\n",
    "def takeInput() :\n",
    "    n = int(input())\n",
    "    if n == 0 :\n",
    "        return list(), 0\n",
    "\n",
    "    arr = [int(x)for x in input().split()]\n",
    "    return arr, n\n",
    "\n",
    "\n",
    "#to print the array/list\n",
    "def printList(arr, n) : \n",
    "    for i in range(n) :\n",
    "        print(arr[i], end = \" \")\n",
    "    print()\n",
    "\n",
    "\n",
    "#main\n",
    "#t = int(stdin.readline().strip())\n",
    "\n",
    "#while t > 0 :\n",
    "    \n",
    "arr, n = takeInput()\n",
    "bubbleSort(arr, n)\n",
    "printList(arr, n)\n",
    "\n",
    " #   t-= 1"
   ]
  },
  {
   "cell_type": "code",
   "execution_count": 62,
   "metadata": {},
   "outputs": [
    {
     "name": "stdout",
     "output_type": "stream",
     "text": [
      "1 2 3 4\n"
     ]
    }
   ],
   "source": [
    "str=input()"
   ]
  },
  {
   "cell_type": "code",
   "execution_count": 63,
   "metadata": {},
   "outputs": [
    {
     "data": {
      "text/plain": [
       "'1 2 3 4'"
      ]
     },
     "execution_count": 63,
     "metadata": {},
     "output_type": "execute_result"
    }
   ],
   "source": [
    "str"
   ]
  },
  {
   "cell_type": "raw",
   "metadata": {},
   "source": []
  }
 ],
 "metadata": {
  "kernelspec": {
   "display_name": "Python 3",
   "language": "python",
   "name": "python3"
  },
  "language_info": {
   "codemirror_mode": {
    "name": "ipython",
    "version": 3
   },
   "file_extension": ".py",
   "mimetype": "text/x-python",
   "name": "python",
   "nbconvert_exporter": "python",
   "pygments_lexer": "ipython3",
   "version": "3.7.8"
  }
 },
 "nbformat": 4,
 "nbformat_minor": 4
}
