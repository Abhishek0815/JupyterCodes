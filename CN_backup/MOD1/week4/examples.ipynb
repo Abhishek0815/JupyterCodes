{
 "cells": [
  {
   "cell_type": "markdown",
   "metadata": {},
   "source": [
    "Searching and Sorting"
   ]
  },
  {
   "cell_type": "code",
   "execution_count": null,
   "metadata": {},
   "outputs": [],
   "source": [
    "Code Binary Search\n",
    "Send Feedback\n",
    "You have been given a sorted(in ascending order) integer array/list(ARR) of size N and an element X. Write a function to search this element in the given input array/list using 'Binary Search'. Return the index of the element in the input array/list. In case the element is not present in the array/list, then return -1.\n",
    "Input format :\n",
    "The first line contains an Integer 'N' which denotes the size of the array/list.\n",
    "\n",
    "Second line contains 'N' single space separated integers representing the elements in the array/list.\n",
    "\n",
    "Third line contains an Integer 't' which denotes the number of test cases or queries to be run. Then the test cases follow..\n",
    "\n",
    "All the 't' lines henceforth, will take the value of X to be searched for in the array/list.\n",
    "Output Format :\n",
    "For each test case, print the index at which X is present, -1 otherwise.\n",
    "\n",
    "Output for every test case will be printed in a separate line.\n",
    "Constraints :\n",
    "1 <= t <= 10^4\n",
    "0 <= N <= 10^6\n",
    "0 <= X <= 10^9\n",
    "Time Limit: 1 sec\n",
    "Sample Input 1:\n",
    "7\n",
    "1 3 7 9 11 12 45\n",
    "1\n",
    "3\n",
    "Sample Output 1:\n",
    "1\n",
    "Sample Input 2:\n",
    "7\n",
    "1 2 3 4 5 6 7\n",
    "2\n",
    "9\n",
    "7\n",
    "Sample Output 2:\n",
    "-1\n",
    "6"
   ]
  },
  {
   "cell_type": "code",
   "execution_count": 21,
   "metadata": {},
   "outputs": [
    {
     "name": "stdout",
     "output_type": "stream",
     "text": [
      "7\n",
      "1 2 3 4 5 6 7\n",
      "2\n",
      "9\n",
      "-1\n",
      "7\n",
      "6\n"
     ]
    }
   ],
   "source": [
    "from sys import stdin\n",
    "\n",
    "\n",
    "def binarySearch(arr, n, x) :\n",
    "    #Your code goes here\n",
    "    start=0\n",
    "    end=n-1\n",
    "    mid=(start+end)//2\n",
    "    while(start<=end):\n",
    "        if x>arr[mid]:\n",
    "            start=mid+1\n",
    "            mid=(start+end)//2\n",
    "        elif x<arr[mid]:\n",
    "            end=mid-1\n",
    "            mid=(start+end)//2\n",
    "        elif x==arr[mid]:\n",
    "            return mid\n",
    "    return -1\n",
    "\n",
    "#Taking Input Using Fast I/O\n",
    "def takeInput() :\n",
    "    n = int(input())\n",
    "    \n",
    "    if n == 0 :\n",
    "        return list(), 0\n",
    "\n",
    "    arr = [int(x) for x in input().split()]\n",
    "    return arr, n\n",
    "\n",
    "\n",
    "#main\n",
    "arr, n = takeInput()\n",
    "t = int(input())\n",
    "\n",
    "while t > 0 :\n",
    "    \n",
    "    x = int(input().strip())      \n",
    "    print(binarySearch(arr, n, x))\n",
    "    t -= 1"
   ]
  },
  {
   "cell_type": "markdown",
   "metadata": {},
   "source": [
    "selection sort"
   ]
  },
  {
   "cell_type": "code",
   "execution_count": 31,
   "metadata": {},
   "outputs": [
    {
     "name": "stdout",
     "output_type": "stream",
     "text": [
      "5 4 6 2 1 4 0 5 8 3\n",
      "0123445568"
     ]
    }
   ],
   "source": [
    "arr=[int(X)for X in input().split()]\n",
    "n=len(arr)\n",
    "for count in range(n-1):\n",
    "    min=arr[count]\n",
    "    j=count\n",
    "    for i in range(count+1,n):\n",
    "        if arr[i]<min:\n",
    "            min=arr[i]\n",
    "            j=i\n",
    "    arr[count],arr[j]=min,arr[count]\n",
    "for ele in arr:\n",
    "    print(ele,end='')"
   ]
  },
  {
   "cell_type": "code",
   "execution_count": null,
   "metadata": {},
   "outputs": [],
   "source": [
    "Bubble sort"
   ]
  },
  {
   "cell_type": "code",
   "execution_count": null,
   "metadata": {},
   "outputs": [],
   "source": [
    "from sys import stdin\n",
    "\n",
    "def bubbleSort(arr, n) :\n",
    "    #Your code goes here\n",
    "    for i in range(n-1):\n",
    "        for j in range(0,n-1-i):\n",
    "            if arr[j]>arr[j+1]:\n",
    "                arr[j],arr[j+1]=arr[j+1],arr[j]\n",
    "                \n",
    "#Taking Input Using Fast I/O\n",
    "def takeInput() :\n",
    "    n = int(input())\n",
    "    if n == 0 :\n",
    "        return list(), 0\n",
    "\n",
    "    arr = [int(x)for x in input().split()]\n",
    "    return arr, n\n",
    "\n",
    "\n",
    "#to print the array/list\n",
    "def printList(arr, n) : \n",
    "    for i in range(n) :\n",
    "        print(arr[i], end = \" \")\n",
    "    print()\n",
    "\n",
    "\n",
    "#main\n",
    "#t = int(stdin.readline().strip())\n",
    "\n",
    "#while t > 0 :\n",
    "    \n",
    "arr, n = takeInput()\n",
    "bubbleSort(arr, n)\n",
    "printList(arr, n)\n",
    "\n",
    " #   t-= 1"
   ]
  },
  {
   "cell_type": "markdown",
   "metadata": {},
   "source": [
    "#Insertion Sort"
   ]
  },
  {
   "cell_type": "code",
   "execution_count": 99,
   "metadata": {},
   "outputs": [
    {
     "name": "stdout",
     "output_type": "stream",
     "text": [
      "[1, 5, 6, 7, 8, 9]\n"
     ]
    }
   ],
   "source": [
    "def selectionSort(arr,n):\n",
    "    for i in range(1,n):\n",
    "        j=i-1\n",
    "        temp=arr[i]\n",
    "        while(j>=0 and temp<arr[j]):\n",
    "           \n",
    "            arr[j+1]=arr[j]\n",
    "            j=j-1\n",
    "        arr[j+1]=temp\n",
    "\n",
    "arr=[9,8,5,6,7,1]\n",
    "n= len(arr)\n",
    "selectionSort(arr,n)\n",
    "print(arr)"
   ]
  },
  {
   "cell_type": "markdown",
   "metadata": {},
   "source": [
    "#Merging two sorted array"
   ]
  },
  {
   "cell_type": "code",
   "execution_count": 109,
   "metadata": {},
   "outputs": [
    {
     "name": "stdout",
     "output_type": "stream",
     "text": [
      "[1, 2, 3, 4, 5, 6, 7, 8, 9]\n"
     ]
    }
   ],
   "source": [
    "def merge(arr1, n, arr2, m) : \n",
    "    \n",
    "    arr3=[]\n",
    "    i=0\n",
    "    j=0\n",
    "    \n",
    "    while(i<=n-1 and j<=m-1):\n",
    "        \n",
    "        if (arr1[i]<arr2[j]):\n",
    "            arr3.append(arr1[i])\n",
    "            i=i+1\n",
    "        else:\n",
    "            arr3.append(arr2[j])\n",
    "            j=j+1\n",
    "    if i<n-1:\n",
    "        for k in range(i,n):\n",
    "            arr3.append(arr1[k])\n",
    "    else:\n",
    "        for k in range(j,m):\n",
    "            arr3.append(arr2[k])\n",
    "    return arr3\n",
    "\n",
    "\n",
    "arr1=[1,2,6,7,8]\n",
    "arr2=[3,4,5,9]\n",
    "n=len(arr1)\n",
    "m=len(arr2)\n",
    "ans=merge(arr1,n,arr2,m)\n",
    "print(ans)\n",
    "\n",
    "    "
   ]
  },
  {
   "cell_type": "code",
   "execution_count": 114,
   "metadata": {},
   "outputs": [
    {
     "name": "stdout",
     "output_type": "stream",
     "text": [
      "[2, 3, 4, 5, 1]\n"
     ]
    }
   ],
   "source": [
    "#####reverse\n",
    "\n",
    "def rotate(arr,n):\n",
    "    temp=arr[0]\n",
    "    for i in range (n-1):\n",
    "        arr[i]=arr[i+1]\n",
    "    arr[n-1]=temp\n",
    "arr=[1,2,3,4,5]\n",
    "n=len(arr)\n",
    "rotate(arr,n)\n",
    "print(arr)"
   ]
  },
  {
   "cell_type": "raw",
   "metadata": {},
   "source": []
  },
  {
   "cell_type": "code",
   "execution_count": 125,
   "metadata": {},
   "outputs": [
    {
     "data": {
      "text/plain": [
       "[3, 4, 5, 1, 2]"
      ]
     },
     "execution_count": 125,
     "metadata": {},
     "output_type": "execute_result"
    }
   ],
   "source": [
    "arr=[1,2,3,4,5]\n",
    "arr=arr[::-1]\n",
    "arr[:3:1]=arr[2::-1]\n",
    "arr[3::]=arr[:2:-1]\n",
    "arr[::1]"
   ]
  }
 ],
 "metadata": {
  "kernelspec": {
   "display_name": "Python 3",
   "language": "python",
   "name": "python3"
  },
  "language_info": {
   "codemirror_mode": {
    "name": "ipython",
    "version": 3
   },
   "file_extension": ".py",
   "mimetype": "text/x-python",
   "name": "python",
   "nbconvert_exporter": "python",
   "pygments_lexer": "ipython3",
   "version": "3.7.8"
  }
 },
 "nbformat": 4,
 "nbformat_minor": 4
}
