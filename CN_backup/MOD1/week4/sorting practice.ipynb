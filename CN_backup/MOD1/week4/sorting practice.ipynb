{
 "cells": [
  {
   "cell_type": "code",
   "execution_count": null,
   "metadata": {},
   "outputs": [],
   "source": [
    "#Insertion sort"
   ]
  },
  {
   "cell_type": "code",
   "execution_count": 13,
   "metadata": {},
   "outputs": [
    {
     "name": "stdout",
     "output_type": "stream",
     "text": [
      "[0, 1, 2, 3, 4, 6, 6, 8]\n"
     ]
    }
   ],
   "source": [
    "def insretionSort(arr,n):\n",
    "    for i in range(1,n):\n",
    "        j=i-1\n",
    "        temp=arr[i]\n",
    "        while(j>=0 and temp<arr[j]):\n",
    "            arr[j+1]=arr[j]\n",
    "            j -=1\n",
    "        arr[j+1]=temp\n",
    "    return arr\n",
    "        \n",
    "    \n",
    "arr=[3,4,2,6,1,6,8,0]\n",
    "n=len(arr)\n",
    "\n",
    "print(insretionSort(arr,n))"
   ]
  },
  {
   "cell_type": "code",
   "execution_count": null,
   "metadata": {},
   "outputs": [],
   "source": [
    "for i in range(1,n):\n",
    "        j=i-1\n",
    "        temp=arr[i]\n",
    "        while(j>=0 and temp<arr[j]):\n",
    "            arr[j+1]=arr[j]\n",
    "            j -=1\n",
    "        arr[j+1]=temp\n",
    "    return arr"
   ]
  },
  {
   "cell_type": "code",
   "execution_count": null,
   "metadata": {},
   "outputs": [],
   "source": [
    "from sys import stdin\n",
    "\n",
    "def arrayRotateCheck(arr, n):\n",
    "    min_index=0\n",
    "    min = arr[0]\n",
    "    for i in range(n):\n",
    "        if a[i]<min:\n",
    "            min=a[i]\n",
    "            min_index=i\n",
    "    return min_index\n"
   ]
  }
 ],
 "metadata": {
  "kernelspec": {
   "display_name": "Python 3",
   "language": "python",
   "name": "python3"
  },
  "language_info": {
   "codemirror_mode": {
    "name": "ipython",
    "version": 3
   },
   "file_extension": ".py",
   "mimetype": "text/x-python",
   "name": "python",
   "nbconvert_exporter": "python",
   "pygments_lexer": "ipython3",
   "version": "3.8.3"
  }
 },
 "nbformat": 4,
 "nbformat_minor": 4
}
