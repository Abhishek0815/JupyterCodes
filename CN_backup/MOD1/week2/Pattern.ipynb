{
 "cells": [
  {
   "cell_type": "markdown",
   "metadata": {},
   "source": [
    "## Pattern1\n",
    "\n",
    "****\n",
    "****\n",
    "****\n",
    "****"
   ]
  },
  {
   "cell_type": "code",
   "execution_count": 17,
   "metadata": {},
   "outputs": [
    {
     "name": "stdout",
     "output_type": "stream",
     "text": [
      "7\n",
      "7777777\n",
      "7777777\n",
      "7777777\n",
      "7777777\n",
      "7777777\n",
      "7777777\n",
      "7777777\n"
     ]
    }
   ],
   "source": [
    "n=int(input())\n",
    "i=0\n",
    "while i<n:\n",
    "    j=0\n",
    "    while j<n:\n",
    "        print(n,end='')\n",
    "        j=j+1\n",
    "    print()\n",
    "    i=i+1\n"
   ]
  },
  {
   "cell_type": "code",
   "execution_count": null,
   "metadata": {},
   "outputs": [],
   "source": [
    "1234\n",
    "1234\n",
    "1234\n",
    "1234\n"
   ]
  },
  {
   "cell_type": "code",
   "execution_count": 19,
   "metadata": {},
   "outputs": [
    {
     "name": "stdout",
     "output_type": "stream",
     "text": [
      "4\n",
      "1234\n",
      "1234\n",
      "1234\n",
      "1234\n"
     ]
    }
   ],
   "source": [
    "n=int(input())\n",
    "i=1\n",
    "while i<=n:\n",
    "    j=1\n",
    "    while j<=n:\n",
    "        print(j,end='')\n",
    "        j=j+1\n",
    "    print()\n",
    "    i=i+1"
   ]
  },
  {
   "cell_type": "code",
   "execution_count": null,
   "metadata": {},
   "outputs": [],
   "source": [
    "1111\n",
    "2222\n",
    "3333\n",
    "4444\n"
   ]
  },
  {
   "cell_type": "code",
   "execution_count": 20,
   "metadata": {},
   "outputs": [
    {
     "name": "stdout",
     "output_type": "stream",
     "text": [
      "5\n",
      "11111\n",
      "22222\n",
      "33333\n",
      "44444\n",
      "55555\n"
     ]
    }
   ],
   "source": [
    "n=int(input())\n",
    "i=1\n",
    "while i<=n:\n",
    "    j=1\n",
    "    while j<=n:\n",
    "        print(i,end='')\n",
    "        j=j+1\n",
    "    print()\n",
    "    i=i+1"
   ]
  },
  {
   "cell_type": "code",
   "execution_count": null,
   "metadata": {},
   "outputs": [],
   "source": [
    "4321\n",
    "4321\n",
    "4321\n",
    "4321\n"
   ]
  },
  {
   "cell_type": "code",
   "execution_count": 21,
   "metadata": {},
   "outputs": [
    {
     "name": "stdout",
     "output_type": "stream",
     "text": [
      "4\n",
      "4321\n",
      "4321\n",
      "4321\n",
      "4321\n"
     ]
    }
   ],
   "source": [
    "n=int(input())\n",
    "i=1\n",
    "while i<=n:\n",
    "    j=1\n",
    "    while j<=n:\n",
    "        print((n-j+1),end='')\n",
    "        j=j+1\n",
    "    print()\n",
    "    i=i+1"
   ]
  },
  {
   "cell_type": "code",
   "execution_count": null,
   "metadata": {},
   "outputs": [],
   "source": [
    "1\n",
    "12\n",
    "123\n",
    "1234\n"
   ]
  },
  {
   "cell_type": "code",
   "execution_count": 22,
   "metadata": {
    "scrolled": true
   },
   "outputs": [
    {
     "name": "stdout",
     "output_type": "stream",
     "text": [
      "4\n",
      "1\n",
      "12\n",
      "123\n",
      "1234\n"
     ]
    }
   ],
   "source": [
    "n=int(input())\n",
    "i=1\n",
    "while i<=n:\n",
    "    j=1\n",
    "    while j<=i:\n",
    "        print(j,end='')\n",
    "        j=j+1\n",
    "    print()\n",
    "    i=i+1"
   ]
  },
  {
   "cell_type": "code",
   "execution_count": 25,
   "metadata": {},
   "outputs": [
    {
     "name": "stdout",
     "output_type": "stream",
     "text": [
      "4\n",
      "1\n",
      "23\n",
      "345\n",
      "4567\n"
     ]
    }
   ],
   "source": [
    "n=int(input())\n",
    "i=1\n",
    "while i<=n:\n",
    "    j=1\n",
    "    while j<=i:\n",
    "        print(i+j-1,end='')\n",
    "        j=j+1\n",
    "    print()\n",
    "    i=i+1"
   ]
  },
  {
   "cell_type": "code",
   "execution_count": null,
   "metadata": {},
   "outputs": [],
   "source": [
    "1\n",
    "23\n",
    "456\n",
    "78910"
   ]
  },
  {
   "cell_type": "code",
   "execution_count": 26,
   "metadata": {},
   "outputs": [
    {
     "name": "stdout",
     "output_type": "stream",
     "text": [
      "4\n",
      "1\n",
      "23\n",
      "456\n",
      "78910\n"
     ]
    }
   ],
   "source": [
    "n=int(input())\n",
    "i=1\n",
    "p=1\n",
    "while i<=n:\n",
    "    j=1\n",
    "    while j<=i:\n",
    "        print(p,end='')\n",
    "        p=p+1\n",
    "        j=j+1\n",
    "    print()\n",
    "    i=i+1"
   ]
  },
  {
   "cell_type": "code",
   "execution_count": null,
   "metadata": {},
   "outputs": [],
   "source": [
    "1\n",
    "11\n",
    "202\n",
    "3003"
   ]
  },
  {
   "cell_type": "code",
   "execution_count": 107,
   "metadata": {},
   "outputs": [
    {
     "name": "stdout",
     "output_type": "stream",
     "text": [
      "5\n",
      "1\n",
      "11\n",
      "202\n",
      "3003\n",
      "40004\n"
     ]
    }
   ],
   "source": [
    "n=int(input())\n",
    "i=0\n",
    "\n",
    "while(i<n):\n",
    "    j=0\n",
    "    while(j<=i):\n",
    "        if(i==0):\n",
    "            print(1,end='')\n",
    "        elif (j==i or j==0):\n",
    "            print(i,end='')\n",
    "        else:\n",
    "            print(0,end='')\n",
    "        j=j+1\n",
    "    print()\n",
    "    i=i+1\n"
   ]
  },
  {
   "cell_type": "code",
   "execution_count": null,
   "metadata": {},
   "outputs": [],
   "source": [
    "1\n",
    "11\n",
    "121\n",
    "1221"
   ]
  },
  {
   "cell_type": "code",
   "execution_count": 1,
   "metadata": {},
   "outputs": [
    {
     "name": "stdout",
     "output_type": "stream",
     "text": [
      "4\n",
      "1\n",
      "11\n",
      "121\n",
      "1221\n"
     ]
    }
   ],
   "source": [
    "n=int(input())\n",
    "i=0\n",
    "\n",
    "while(i<n):\n",
    "    j=0\n",
    "    while(j<=i):\n",
    "        if(i==0):\n",
    "            print(1,end='')\n",
    "        elif (j==i or j==0):\n",
    "            print(1,end='')\n",
    "        else:\n",
    "            print(2,end='')\n",
    "        j=j+1\n",
    "    print()\n",
    "    i=i+1"
   ]
  },
  {
   "cell_type": "code",
   "execution_count": null,
   "metadata": {},
   "outputs": [],
   "source": [
    "1234\n",
    "123\n",
    "12\n",
    "1"
   ]
  },
  {
   "cell_type": "code",
   "execution_count": 5,
   "metadata": {},
   "outputs": [
    {
     "name": "stdout",
     "output_type": "stream",
     "text": [
      "5\n",
      "12345\n",
      "1234\n",
      "123\n",
      "12\n",
      "1\n"
     ]
    }
   ],
   "source": [
    "n=int(input())\n",
    "i=n\n",
    "while(i>=1):\n",
    "    j=1\n",
    "    while(j<=i):\n",
    "        print(j,end='')\n",
    "        j=j+1\n",
    "    print()\n",
    "    i=i-1"
   ]
  },
  {
   "cell_type": "code",
   "execution_count": null,
   "metadata": {},
   "outputs": [],
   "source": [
    "1\n",
    "21\n",
    "321\n",
    "4321"
   ]
  },
  {
   "cell_type": "code",
   "execution_count": 110,
   "metadata": {},
   "outputs": [
    {
     "name": "stdout",
     "output_type": "stream",
     "text": [
      "4\n",
      "1\n",
      "21\n",
      "321\n",
      "4321\n"
     ]
    }
   ],
   "source": [
    "n=int(input())\n",
    "i=1\n",
    "while(i<=n):\n",
    "    j=1\n",
    "    p=i\n",
    "    while(j<=i):\n",
    "        \n",
    "        print(p,end=\"\")\n",
    "        p=p-1\n",
    "        j=j+1\n",
    "    print()\n",
    "    i=i+1"
   ]
  },
  {
   "cell_type": "code",
   "execution_count": null,
   "metadata": {},
   "outputs": [],
   "source": [
    "ABCD\n",
    "ABCD\n",
    "ABCD\n",
    "ABCD"
   ]
  },
  {
   "cell_type": "code",
   "execution_count": 120,
   "metadata": {},
   "outputs": [
    {
     "name": "stdout",
     "output_type": "stream",
     "text": [
      "4\n",
      "ABCD\n",
      "ABCD\n",
      "ABCD\n",
      "ABCD\n"
     ]
    }
   ],
   "source": [
    "n=int(input())\n",
    "i=1\n",
    "while(i<=n):\n",
    "    j=1\n",
    "    \n",
    "    while(j<=n):\n",
    "        print_Char=(ord('A'))\n",
    "        print(chr(print_Char+j-1),end='')\n",
    "        j=j+1\n",
    "    print()\n",
    "    i=i+1\n",
    "    "
   ]
  },
  {
   "cell_type": "code",
   "execution_count": null,
   "metadata": {},
   "outputs": [],
   "source": [
    "ABCD\n",
    "BCDE\n",
    "CDEF\n",
    "DEFG"
   ]
  },
  {
   "cell_type": "code",
   "execution_count": 122,
   "metadata": {},
   "outputs": [
    {
     "name": "stdout",
     "output_type": "stream",
     "text": [
      "4\n",
      "ABCD\n",
      "BCDE\n",
      "CDEF\n",
      "DEFG\n"
     ]
    }
   ],
   "source": [
    "n=int(input())\n",
    "i=1\n",
    "while(i<=n):\n",
    "    j=1\n",
    "    print_Char=(ord('A')+i-1) \n",
    "    while(j<=n): \n",
    "        \n",
    "        print(chr(print_Char+j-1),end='')\n",
    "        j=j+1\n",
    "    print()\n",
    "    i=i+1"
   ]
  },
  {
   "cell_type": "code",
   "execution_count": null,
   "metadata": {},
   "outputs": [],
   "source": [
    "A\n",
    "BC\n",
    "CDE\n",
    "DEFG"
   ]
  },
  {
   "cell_type": "code",
   "execution_count": 19,
   "metadata": {},
   "outputs": [
    {
     "name": "stdout",
     "output_type": "stream",
     "text": [
      "4\n",
      "A\n",
      "BC\n",
      "CDE\n",
      "DEFG\n"
     ]
    }
   ],
   "source": [
    "n=int(input())\n",
    "i=1\n",
    "while(i<=n):\n",
    "    j=1\n",
    "    print_Char=(ord('A')+i-1) \n",
    "    while(j<=i): \n",
    "        \n",
    "        print(chr(print_Char+j-1),end='')\n",
    "        j=j+1\n",
    "    print()\n",
    "    i=i+1"
   ]
  },
  {
   "cell_type": "code",
   "execution_count": null,
   "metadata": {},
   "outputs": [],
   "source": [
    "E\n",
    "DE\n",
    "CDE\n",
    "BCDE\n",
    "ABCDE"
   ]
  },
  {
   "cell_type": "code",
   "execution_count": 126,
   "metadata": {},
   "outputs": [
    {
     "name": "stdout",
     "output_type": "stream",
     "text": [
      "5\n",
      "E\n",
      "DE\n",
      "CDE\n",
      "BCDE\n",
      "ABCDE\n"
     ]
    }
   ],
   "source": [
    "n=int(input())\n",
    "i=1\n",
    "while(i<=n):\n",
    "    j=1\n",
    "    print_Char=(ord('A')+n-i) \n",
    "    while(j<=i): \n",
    "        \n",
    "        print(chr(print_Char+j-1),end='')\n",
    "        j=j+1\n",
    "    print()\n",
    "    i=i+1"
   ]
  },
  {
   "cell_type": "code",
   "execution_count": null,
   "metadata": {},
   "outputs": [],
   "source": [
    "A\n",
    "BB\n",
    "CCC"
   ]
  },
  {
   "cell_type": "code",
   "execution_count": 127,
   "metadata": {},
   "outputs": [
    {
     "name": "stdout",
     "output_type": "stream",
     "text": [
      "4\n",
      "A\n",
      "BB\n",
      "CCC\n",
      "DDDD\n"
     ]
    }
   ],
   "source": [
    "n=int(input())\n",
    "i=1\n",
    "while(i<=n):\n",
    "    j=1\n",
    "    print_Char=(ord('A')+i-1) \n",
    "    while(j<=i): \n",
    "        \n",
    "        print(chr(print_Char),end='')\n",
    "        j=j+1\n",
    "    print()\n",
    "    i=i+1"
   ]
  },
  {
   "cell_type": "markdown",
   "metadata": {},
   "source": [
    "## inverted triangle\n"
   ]
  },
  {
   "cell_type": "code",
   "execution_count": null,
   "metadata": {},
   "outputs": [],
   "source": [
    "1234\n",
    "123\n",
    "12\n",
    "1"
   ]
  },
  {
   "cell_type": "code",
   "execution_count": 7,
   "metadata": {},
   "outputs": [
    {
     "name": "stdout",
     "output_type": "stream",
     "text": [
      "4\n",
      "1234\n",
      "123\n",
      "12\n",
      "1\n"
     ]
    }
   ],
   "source": [
    "###code1\n",
    "\n",
    "n=int(input())\n",
    "i=n\n",
    "while(i>=1):\n",
    "    j=1\n",
    "    while(j<=i):\n",
    "        print(j,end='')\n",
    "        j=j+1\n",
    "    print()\n",
    "    i=i-1\n",
    "    "
   ]
  },
  {
   "cell_type": "code",
   "execution_count": 9,
   "metadata": {},
   "outputs": [
    {
     "name": "stdout",
     "output_type": "stream",
     "text": [
      "4\n",
      "1234\n",
      "123\n",
      "12\n",
      "1\n"
     ]
    }
   ],
   "source": [
    "##code 2\n",
    "n=int(input())\n",
    "i=1\n",
    "while(i<=n):\n",
    "    j=1\n",
    "    while(j<=(n-i+1)):\n",
    "        print(j,end='')\n",
    "        j=j+1\n",
    "    print()\n",
    "    i=i+1\n"
   ]
  },
  {
   "cell_type": "markdown",
   "metadata": {},
   "source": [
    "# REverse"
   ]
  },
  {
   "cell_type": "code",
   "execution_count": 16,
   "metadata": {},
   "outputs": [
    {
     "name": "stdout",
     "output_type": "stream",
     "text": [
      "4\n",
      "   1\n",
      "  12\n",
      " 123\n",
      "1234\n"
     ]
    }
   ],
   "source": [
    "## Read input as specified in the question\n",
    "## Print the required output in given format\n",
    "n=int(input())\n",
    "i=1\n",
    "while(i<=n):\n",
    "    \n",
    "    space=1\n",
    "    while(space<=n-i):\n",
    "            \n",
    "        print(' ',end='')\n",
    "        space=space+1\n",
    "    num=1\n",
    "    while(num<=i):\n",
    "        print(num,end='')\n",
    "        num=num+1\n",
    "        \n",
    "    print()\n",
    "    i=i+1\n",
    "    "
   ]
  },
  {
   "cell_type": "markdown",
   "metadata": {},
   "source": [
    "## iscoceles pattern"
   ]
  },
  {
   "cell_type": "code",
   "execution_count": 7,
   "metadata": {},
   "outputs": [
    {
     "name": "stdout",
     "output_type": "stream",
     "text": [
      "4\n",
      "   1\n",
      "  121\n",
      " 12321\n",
      "1234321\n"
     ]
    }
   ],
   "source": [
    "n=int(input())\n",
    "i=1\n",
    "while i<=n:\n",
    "    ###spaces\n",
    "    space=1\n",
    "    while space<=n-i:\n",
    "        print(' ',end='')\n",
    "        space=space+1\n",
    "    ###increasing seq\n",
    "    \n",
    "    j=1\n",
    "    p=1\n",
    "    while(j<=i):\n",
    "        print(p,end='')\n",
    "        p=p+1\n",
    "        j=j+1\n",
    "        \n",
    "    ###decresing seq.\n",
    "    p=i-1\n",
    "    while(p>=1):\n",
    "        print(p,end='')\n",
    "        p=p-1\n",
    "    print()\n",
    "    i=i+1\n"
   ]
  },
  {
   "cell_type": "code",
   "execution_count": null,
   "metadata": {},
   "outputs": [],
   "source": [
    "#Star triangle"
   ]
  },
  {
   "cell_type": "code",
   "execution_count": 10,
   "metadata": {},
   "outputs": [
    {
     "name": "stdout",
     "output_type": "stream",
     "text": [
      "4\n",
      "   *\n",
      "  ***\n",
      " *****\n",
      "*******\n"
     ]
    }
   ],
   "source": [
    "## Read input as specified in the question.\n",
    "## Print output as specified in the question.\n",
    "## Read input as specified in the question\n",
    "## Print the required output in given format\n",
    "n=int(input())\n",
    "i=1\n",
    "while i<=n:\n",
    "    ###spaces\n",
    "    space=1\n",
    "    while space<=n-i:\n",
    "        print(' ',end='')\n",
    "        space=space+1\n",
    "    ###increasing seq\n",
    "    \n",
    "    j=1\n",
    "    p='*'\n",
    "    while(j<=i):\n",
    "        print(p,end='')\n",
    "        #p=p+1\n",
    "        j=j+1\n",
    "        \n",
    "    ###decresing seq.\n",
    "    \n",
    "    while(j>2):\n",
    "        print(p,end='')\n",
    "        j=j-1\n",
    "    print()\n",
    "    i=i+1\n",
    "    "
   ]
  },
  {
   "cell_type": "code",
   "execution_count": null,
   "metadata": {},
   "outputs": [],
   "source": [
    " # Pattern  pyramid\n",
    "    1\n",
    "   232\n",
    "  34543\n",
    " 4567654    "
   ]
  },
  {
   "cell_type": "code",
   "execution_count": 12,
   "metadata": {},
   "outputs": [
    {
     "name": "stdout",
     "output_type": "stream",
     "text": [
      "4\n",
      "   1\n",
      "  232\n",
      " 34543\n",
      "4567654\n"
     ]
    }
   ],
   "source": [
    "## Read input as specified in the question.\n",
    "## Print output as specified in the question.\n",
    "## Read input as specified in the question\n",
    "## Print the required output in given format\n",
    "n=int(input())\n",
    "i=1\n",
    "while i<=n:\n",
    "    ###spaces\n",
    "    space=1\n",
    "    while space<=n-i:\n",
    "        print(' ',end='')\n",
    "        space=space+1\n",
    "    ###increasing seq\n",
    "    \n",
    "    j=1\n",
    "    p=i\n",
    "    while(j<=i):\n",
    "        print(p,end='')\n",
    "        p=p+1\n",
    "        j=j+1\n",
    "        \n",
    "    ###decresing seq.\n",
    "    j=i-1\n",
    "    p=p-2\n",
    "    while(j>=1):\n",
    "        print(p,end='')\n",
    "        j=j-1\n",
    "        p=p-1\n",
    "    print()\n",
    "    i=i+1\n",
    "    "
   ]
  },
  {
   "cell_type": "code",
   "execution_count": null,
   "metadata": {},
   "outputs": [],
   "source": [
    "#Diamond of stars\n",
    "\n",
    "   *\n",
    "  ***\n",
    " *****\n",
    "  ***\n",
    "   *"
   ]
  },
  {
   "cell_type": "code",
   "execution_count": 23,
   "metadata": {},
   "outputs": [
    {
     "name": "stdout",
     "output_type": "stream",
     "text": [
      "7\n",
      "   *\n",
      "  ***\n",
      " *****\n",
      "*******\n",
      " *****\n",
      "  ***\n",
      "   *\n"
     ]
    }
   ],
   "source": [
    "n=int(input())\n",
    "if n%2==0:\n",
    "    print('invalid input')\n",
    "else:\n",
    "    i=1\n",
    "    p='*'\n",
    "    ## for upper half\n",
    "    mid=n//2+1\n",
    "    while(i<=mid):\n",
    "\n",
    "        ##print spaces for upper half 1st triangle\n",
    "        space=1\n",
    "        while(space<=mid-i):\n",
    "            print(' ',end='')\n",
    "            space=space+1\n",
    "        ##print star for upper half 1st triangle\n",
    "        star=1\n",
    "        while(star<=i):\n",
    "            print(p,end='')\n",
    "            star=star+1\n",
    "        ##print star for second upper half triangle\n",
    "        star=1\n",
    "        while(star<=i-1):\n",
    "            print(p,end='')\n",
    "            star=star+1\n",
    "        print()\n",
    "        i=i+1\n",
    "        \n",
    "     ###for lower half\n",
    "    k=n-mid\n",
    "    i=1\n",
    "    while(i<=k):\n",
    "        ##print spacesfor lower half 1st triangle\n",
    "        space=1\n",
    "        while(space<=i):\n",
    "            print(' ',end='')\n",
    "            space=space+1\n",
    "        ##print star for lower half 1st triangle\n",
    "        star=1\n",
    "        while(star<=k-i+1):\n",
    "            print(p,end='')\n",
    "            star=star+1\n",
    "        ##print lower half fourth triangle\n",
    "        star=1\n",
    "        while(star<=k-i):\n",
    "            print(p,end='')\n",
    "            star=star+1\n",
    "        print()\n",
    "        i=i+1\n",
    "            \n",
    "        \n",
    "        \n",
    "            \n",
    "            "
   ]
  },
  {
   "cell_type": "markdown",
   "metadata": {},
   "source": [
    "### Assignment\n"
   ]
  },
  {
   "cell_type": "code",
   "execution_count": null,
   "metadata": {},
   "outputs": [],
   "source": [
    "# number pattern N=5(\n",
    "\n",
    "1        1\n",
    "12      21\n",
    "123    321\n",
    "1234  4321\n",
    "1234554321"
   ]
  },
  {
   "cell_type": "code",
   "execution_count": 26,
   "metadata": {},
   "outputs": [
    {
     "name": "stdout",
     "output_type": "stream",
     "text": [
      "5\n",
      "1        1\n",
      "12      21\n",
      "123    321\n",
      "1234  4321\n",
      "1234554321\n"
     ]
    }
   ],
   "source": [
    "n=int(input())\n",
    "i=1\n",
    "while(i<=n):\n",
    "    ####printing the left part\n",
    "    k=1\n",
    "    while(k<=i):\n",
    "        print(k,end='')\n",
    "        k=k+1\n",
    "    ####printing the spaces\n",
    "    space=1\n",
    "    while(space<=2*(n-i)):\n",
    "        print(' ',end='')\n",
    "        space=space+1\n",
    "    ##printing second part\n",
    "    k=k-1\n",
    "    while(k>=1):\n",
    "        print(k,end='')\n",
    "        k=k-1\n",
    "    print()\n",
    "    i=i+1"
   ]
  },
  {
   "cell_type": "markdown",
   "metadata": {},
   "source": [
    "### 2) Zero's and Star pattern"
   ]
  },
  {
   "cell_type": "code",
   "execution_count": null,
   "metadata": {},
   "outputs": [],
   "source": [
    "*000*000*\n",
    "0*00*00*0\n",
    "00*0*0*00\n",
    "000***000"
   ]
  },
  {
   "cell_type": "code",
   "execution_count": 8,
   "metadata": {},
   "outputs": [
    {
     "name": "stdout",
     "output_type": "stream",
     "text": [
      "4\n",
      "*000*000*\n",
      "0*00*00*0\n",
      "00*0*0*00\n",
      "000***000\n"
     ]
    }
   ],
   "source": [
    "## Read input as specified in the question.\n",
    "## Print output as specified in the question.\n",
    "n=int(input())\n",
    "i=1\n",
    "j=1\n",
    "##print zeros in first at start\n",
    "while(i<=n):\n",
    "    zero=1\n",
    "    while(zero<i):\n",
    "        print(0,end='')\n",
    "        zero=zero+1\n",
    "    #print()\n",
    "    #i=i+1\n",
    "##print first star\n",
    "    \n",
    "    print('*',end='')\n",
    "    #print()\n",
    "    #i=i+1\n",
    "##print zeros second sequence\n",
    "\n",
    "    zero=1\n",
    "    size=n-i\n",
    "    while(zero<=size):\n",
    "        print(0,end='')\n",
    "        zero=zero+1\n",
    "    #print()\n",
    "    #i=i+1    \n",
    "##print 2nd star\n",
    "\n",
    "    print('*',end='')\n",
    "##print zero 3rd pattern\n",
    "    zero=1\n",
    "    size=n-i\n",
    "    while(zero<=size):\n",
    "        print(0,end='')\n",
    "        zero=zero+1\n",
    "    #print()\n",
    "    #i=i+1\n",
    "    print('*',end='')\n",
    "##print zero 4th pattern\n",
    "    zero=1\n",
    "    size=i-1\n",
    "    while(zero<=size):\n",
    "        print(0,end='')\n",
    "        zero=zero+1\n",
    "    print()\n",
    "    i=i+1"
   ]
  },
  {
   "cell_type": "code",
   "execution_count": 9,
   "metadata": {},
   "outputs": [],
   "source": [
    "## print pattern\n",
    "   1\n",
    "  212\n",
    " 32123\n",
    "4321234"
   ]
  },
  {
   "cell_type": "code",
   "execution_count": 12,
   "metadata": {},
   "outputs": [
    {
     "name": "stdout",
     "output_type": "stream",
     "text": [
      "4\n",
      "   1\n",
      "  212\n",
      " 32123\n",
      "4321234\n"
     ]
    }
   ],
   "source": [
    "n=int(input())\n",
    "i=1\n",
    "\n",
    "while(i<=n):\n",
    "    ##print spaces\n",
    "    space=1\n",
    "    while(space<=n-i):\n",
    "        print(' ',end='')\n",
    "        space=space+1\n",
    "    ##print numbers in first triangle\n",
    "    seq=i\n",
    "    while(seq>=1):\n",
    "        print(seq,end='')\n",
    "        seq=seq-1\n",
    "    #print()\n",
    "    #i=i+1\n",
    "    ##print number in second triangle\n",
    "    seq=1\n",
    "    j=1\n",
    "    while(j<i):\n",
    "        print(seq+1,end='')\n",
    "        seq=seq+1\n",
    "        j=j+1\n",
    "    print()\n",
    "    i=i+1"
   ]
  },
  {
   "cell_type": "code",
   "execution_count": null,
   "metadata": {},
   "outputs": [],
   "source": [
    "## Arrow"
   ]
  },
  {
   "cell_type": "code",
   "execution_count": 28,
   "metadata": {},
   "outputs": [
    {
     "name": "stdout",
     "output_type": "stream",
     "text": [
      "7\n",
      "* \n",
      " * * \n",
      "  * * * \n",
      "   * * * * \n",
      "  * * * \n",
      " * * \n",
      "* \n"
     ]
    }
   ],
   "source": [
    "## Read input as specified in the question.\n",
    "## Print output as specified in the question.\n",
    "n=int(input())\n",
    "i=1\n",
    "if n%2==0:\n",
    "    print('Invalid Input')\n",
    "else:\n",
    "    mid=n//2+1\n",
    "    p=\"* \"\n",
    "    ##Upper half\n",
    "    while(i<=mid):\n",
    "    ##print space\n",
    "        space=1\n",
    "        while(space<=i-1):\n",
    "            print(' ',end='')\n",
    "            space=space+1\n",
    "        ##print star\n",
    "        star=1\n",
    "    \n",
    "        while(star<=i):\n",
    "            print(p,end='')\n",
    "            star=star+1\n",
    "        print()\n",
    "        i=i+1\n",
    "    ##lower half space pattern\n",
    "    \n",
    "    while(i<=n):\n",
    "        space=n-i\n",
    "        while(space>0):\n",
    "            print(' ',end='')\n",
    "            space=space-1\n",
    "        ##Star pattern\n",
    "        star=n-i+1\n",
    "        while(star>0):\n",
    "            print(p,end='')\n",
    "            star=star-1\n",
    "        print()\n",
    "        i=i+1\n",
    "        "
   ]
  }
 ],
 "metadata": {
  "kernelspec": {
   "display_name": "Python 3",
   "language": "python",
   "name": "python3"
  },
  "language_info": {
   "codemirror_mode": {
    "name": "ipython",
    "version": 3
   },
   "file_extension": ".py",
   "mimetype": "text/x-python",
   "name": "python",
   "nbconvert_exporter": "python",
   "pygments_lexer": "ipython3",
   "version": "3.7.8"
  }
 },
 "nbformat": 4,
 "nbformat_minor": 4
}
