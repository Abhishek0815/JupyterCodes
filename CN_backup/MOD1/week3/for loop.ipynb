{
 "cells": [
  {
   "cell_type": "code",
   "execution_count": null,
   "metadata": {},
   "outputs": [],
   "source": [
    "##print form 0 to n-1"
   ]
  },
  {
   "cell_type": "code",
   "execution_count": 3,
   "metadata": {},
   "outputs": [
    {
     "name": "stdout",
     "output_type": "stream",
     "text": [
      "5\n",
      "0\n",
      "1\n",
      "2\n",
      "3\n",
      "4\n",
      "5\n"
     ]
    }
   ],
   "source": [
    "n=int(input())\n",
    "for i in range (n+1):\n",
    "    print(i)"
   ]
  },
  {
   "cell_type": "code",
   "execution_count": null,
   "metadata": {},
   "outputs": [],
   "source": [
    "## print number divisble by 3"
   ]
  },
  {
   "cell_type": "code",
   "execution_count": 4,
   "metadata": {},
   "outputs": [
    {
     "name": "stdout",
     "output_type": "stream",
     "text": [
      "10\n",
      "100\n",
      "12\n",
      "15\n",
      "18\n",
      "21\n",
      "24\n",
      "27\n",
      "30\n",
      "33\n",
      "36\n",
      "39\n",
      "42\n",
      "45\n",
      "48\n",
      "51\n",
      "54\n",
      "57\n",
      "60\n",
      "63\n",
      "66\n",
      "69\n",
      "72\n",
      "75\n",
      "78\n",
      "81\n",
      "84\n",
      "87\n",
      "90\n",
      "93\n",
      "96\n",
      "99\n"
     ]
    }
   ],
   "source": [
    "a=int(input())\n",
    "b=int(input())\n",
    "if a%3==0:\n",
    "    a=a\n",
    "elif a%3==1:\n",
    "    a=a+2\n",
    "else:\n",
    "    a=a+1\n",
    "for i in range (a,b,3):\n",
    "    print(i)"
   ]
  },
  {
   "cell_type": "code",
   "execution_count": null,
   "metadata": {},
   "outputs": [],
   "source": [
    "## Check if number is Prime"
   ]
  },
  {
   "cell_type": "code",
   "execution_count": 8,
   "metadata": {},
   "outputs": [
    {
     "name": "stdout",
     "output_type": "stream",
     "text": [
      "6\n",
      "not prime\n"
     ]
    }
   ],
   "source": [
    "n=int(input())\n",
    "flag=False\n",
    "for i in  range(2,n,1):\n",
    "    if n%i==0:\n",
    "        flag=True\n",
    "if flag:\n",
    "    print('not prime')"
   ]
  },
  {
   "cell_type": "code",
   "execution_count": null,
   "metadata": {},
   "outputs": [],
   "source": [
    "##Pattern using for\n",
    "\n",
    "   1\n",
    "  232\n",
    " 34543\n",
    "4567654"
   ]
  },
  {
   "cell_type": "code",
   "execution_count": 9,
   "metadata": {},
   "outputs": [
    {
     "name": "stdout",
     "output_type": "stream",
     "text": [
      "4\n",
      "   1\n",
      "  232\n",
      " 34543\n",
      "4567654\n"
     ]
    }
   ],
   "source": [
    "n=int(input())\n",
    "for i in range(1,n+1,1):\n",
    "    for s in range(n-i):##space\n",
    "        print(' ',end='')\n",
    "    for j in range(i,2*i,1):##increasing\n",
    "        print(j,end='')\n",
    "    for d in range(2*i-2,i-1,-1):\n",
    "        print(d,end='')\n",
    "    print()"
   ]
  },
  {
   "cell_type": "code",
   "execution_count": null,
   "metadata": {},
   "outputs": [],
   "source": [
    "##print all prime no. from 2 to n using break"
   ]
  },
  {
   "cell_type": "code",
   "execution_count": 16,
   "metadata": {},
   "outputs": [
    {
     "name": "stdout",
     "output_type": "stream",
     "text": [
      "10\n",
      "2\n",
      "3\n",
      "5\n",
      "7\n"
     ]
    }
   ],
   "source": [
    "n=int(input())\n",
    "i=2\n",
    "\n",
    "while(i<n):\n",
    "    j=2\n",
    "    flag=False\n",
    "    while(j<i):\n",
    "        if i%j==0:\n",
    "            flag=True \n",
    "            break\n",
    "        j=j+1\n",
    "    if flag==False:\n",
    "        print(i)\n",
    "    i=i+1\n",
    "    "
   ]
  },
  {
   "cell_type": "code",
   "execution_count": null,
   "metadata": {},
   "outputs": [],
   "source": [
    "## pattern\n",
    "1111\n",
    "000\n",
    "11\n",
    "0"
   ]
  },
  {
   "cell_type": "code",
   "execution_count": 17,
   "metadata": {},
   "outputs": [
    {
     "name": "stdout",
     "output_type": "stream",
     "text": [
      "4\n",
      "1111\n",
      "000\n",
      "11\n",
      "0\n"
     ]
    }
   ],
   "source": [
    "n=int(input())\n",
    "i=0\n",
    "while(i<n):\n",
    "    j=1\n",
    "    if i%2==0:\n",
    "        while(j<=n-i):\n",
    "            print(1,end='')\n",
    "            j=j+1\n",
    "    else:\n",
    "        while(j<=n-i):\n",
    "            print(0,end='')\n",
    "            j=j+1\n",
    "    print()\n",
    "    i=i+1\n",
    "        "
   ]
  },
  {
   "cell_type": "code",
   "execution_count": 19,
   "metadata": {},
   "outputs": [
    {
     "name": "stdout",
     "output_type": "stream",
     "text": [
      "4\n",
      "1111\n",
      "000\n",
      "11\n",
      "0\n"
     ]
    }
   ],
   "source": [
    "### using for loop\n",
    "\n",
    "n=int(input())\n",
    "\n",
    "for i in range (n):\n",
    "    if i%2==0:\n",
    "        for one in range (n-i):\n",
    "            print(1,end='')\n",
    "    else:\n",
    "        for zero in range(n-i):\n",
    "            print(0,end='')\n",
    "    print()"
   ]
  },
  {
   "cell_type": "code",
   "execution_count": null,
   "metadata": {},
   "outputs": [],
   "source": [
    "123456\n",
    " 23456\n",
    "  3456\n",
    "   456\n",
    "    56\n",
    "     6            ####pattern\n",
    "    56\n",
    "   456\n",
    "  3456\n",
    " 23456\n",
    "123456"
   ]
  },
  {
   "cell_type": "code",
   "execution_count": 38,
   "metadata": {},
   "outputs": [
    {
     "name": "stdout",
     "output_type": "stream",
     "text": [
      "7\n",
      "1234567\n",
      " 234567\n",
      "  34567\n",
      "   4567\n",
      "    567\n",
      "     67\n",
      "      7\n",
      "     67\n",
      "    567\n",
      "   4567\n",
      "  34567\n",
      " 234567\n",
      "1234567\n"
     ]
    }
   ],
   "source": [
    "n=int(input())\n",
    "for i in range(1,n+1):\n",
    "    \n",
    "    for space in range(1,i):\n",
    "        print(' ',end='')\n",
    "        \n",
    "        \n",
    "    for j in range(i,n+1):\n",
    "        print(j,end='')\n",
    "        \n",
    "    print()\n",
    "for i in range(1,n):\n",
    "    for space in range(n-i-1,0,-1):\n",
    "        print(' ',end='')\n",
    "    for j in range(n-i,n+1):\n",
    "        print(j,end='')\n",
    "    print()\n",
    "        \n",
    "    \n",
    "    "
   ]
  },
  {
   "cell_type": "code",
   "execution_count": null,
   "metadata": {},
   "outputs": [],
   "source": [
    "  *\n",
    " ***\n",
    "*****\n",
    " ***\n",
    "  *"
   ]
  },
  {
   "cell_type": "code",
   "execution_count": 41,
   "metadata": {},
   "outputs": [
    {
     "name": "stdout",
     "output_type": "stream",
     "text": [
      "5\n",
      "  *\n",
      " ***\n",
      "*****\n",
      " ***\n",
      "  *\n"
     ]
    }
   ],
   "source": [
    "n=int(input())\n",
    "if n%2==0:\n",
    "    print(\"Invalid input\")\n",
    "else:\n",
    "    mid=n//2+1\n",
    "    for i in range(1,mid+1):\n",
    "        for space in range(mid-i,0,-1):\n",
    "            print(' ',end='')\n",
    "        for star in range(0,2*i-1):\n",
    "            print('*',end='')\n",
    "        print()\n",
    "    for i in range(1,n-mid+1):\n",
    "        for space in range(i):\n",
    "            print(' ',end='')\n",
    "        for star in range(n-2*i,0,-1):\n",
    "            print('*',end='')\n",
    "        print()\n",
    "        "
   ]
  },
  {
   "cell_type": "code",
   "execution_count": null,
   "metadata": {},
   "outputs": [],
   "source": [
    "#print                      N=4\n",
    "                        \n",
    "\n",
    "                            4444444\n",
    "                            4333334\n",
    "                            4322234\n",
    "                            4321234\n",
    "                            4322234\n",
    "                            4333334  \n",
    "                            4444444\n",
    "                            \n",
    "                            \n",
    " N=3                             \n",
    "33333\n",
    "32223                        \n",
    "32123\n",
    "32223\n",
    "33333"
   ]
  },
  {
   "cell_type": "code",
   "execution_count": 11,
   "metadata": {},
   "outputs": [
    {
     "name": "stdout",
     "output_type": "stream",
     "text": [
      "5\n",
      "555555555\n",
      "544444445\n",
      "543333345\n",
      "543222345\n",
      "543212345\n",
      "543222345\n",
      "543333345\n",
      "544444445\n",
      "555555555\n"
     ]
    }
   ],
   "source": [
    "\n",
    "n=int(input())\n",
    "end=2*n-1\n",
    "for i in range(0,end//2+1):\n",
    "    m=n\n",
    "    #decreasing pattern\n",
    "    for j in range(0,i):\n",
    "        print(m,end='')\n",
    "        m -=1\n",
    "    #constant pattern\n",
    "    for k in range(0,end-2*i):\n",
    "        print(n-i,end='')\n",
    "    #increasing pattern\n",
    "    m=n-i+1\n",
    "    for l in range(0,i):\n",
    "        print(m,end='')\n",
    "        m+=1\n",
    "    print()\n",
    "for i in range (0,end//2):\n",
    "    m=n\n",
    "    size=(end//2)-i-1\n",
    "    #decrementing pattern\n",
    "    for j in range(0,size):\n",
    "        print(m,end='')\n",
    "        m-=1\n",
    "    \n",
    "    #constant\n",
    "    const=n-size\n",
    "    for j in range(0,end-2*size):\n",
    "        print(const,end='')\n",
    "    #incrementing\n",
    "    m=const+1\n",
    "    for l in range (0,size):\n",
    "        print(m,end='')\n",
    "        m+=1\n",
    "    print()\n"
   ]
  },
  {
   "cell_type": "code",
   "execution_count": null,
   "metadata": {},
   "outputs": [],
   "source": [
    "###Print\n",
    "1    2   3    4   5\n",
    "11   12  13   14  15\n",
    "21   22  23   24  25\n",
    "16   17  18   19  20\n",
    "6    7    8   9   10"
   ]
  },
  {
   "cell_type": "code",
   "execution_count": 22,
   "metadata": {},
   "outputs": [
    {
     "name": "stdout",
     "output_type": "stream",
     "text": [
      "5\n",
      "1   2   3   4   5   \n",
      "11   12   13   14   15   \n",
      "21   22   23   24   25   \n",
      "16   17   18   19   20   \n",
      "6   7   8   9   10   \n"
     ]
    }
   ],
   "source": [
    "n=int(input())\n",
    "for i in range(0,n,2):\n",
    "    m=n*i+1\n",
    "    for j in range(0,n):\n",
    "        \n",
    "        print(m,end='   ')\n",
    "        m+=1\n",
    "    print()\n",
    "if n%2==0:\n",
    "    dec=1\n",
    "else:\n",
    "    dec=2\n",
    "for i in range(n-dec,0,-2):\n",
    "    m=n*i+1\n",
    "    for j in range(0,n):\n",
    "        print(m,end='   ')\n",
    "        m+=1\n",
    "    print()"
   ]
  }
 ],
 "metadata": {
  "kernelspec": {
   "display_name": "Python 3",
   "language": "python",
   "name": "python3"
  },
  "language_info": {
   "codemirror_mode": {
    "name": "ipython",
    "version": 3
   },
   "file_extension": ".py",
   "mimetype": "text/x-python",
   "name": "python",
   "nbconvert_exporter": "python",
   "pygments_lexer": "ipython3",
   "version": "3.7.8"
  }
 },
 "nbformat": 4,
 "nbformat_minor": 4
}
