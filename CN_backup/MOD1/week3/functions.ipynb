{
 "cells": [
  {
   "cell_type": "markdown",
   "metadata": {},
   "source": [
    "# nCr using function"
   ]
  },
  {
   "cell_type": "code",
   "execution_count": 5,
   "metadata": {},
   "outputs": [
    {
     "name": "stdout",
     "output_type": "stream",
     "text": [
      "5\n",
      "2\n",
      "10\n"
     ]
    }
   ],
   "source": [
    "def fact(a):\n",
    "    fact=1\n",
    "    for i in range(1,a+1):\n",
    "        fact=fact*i\n",
    "    return fact\n"
   ]
  },
  {
   "cell_type": "code",
   "execution_count": 40,
   "metadata": {},
   "outputs": [],
   "source": [
    "def nCr(n,r):\n",
    "    \n",
    "    n_fact=fact(n)\n",
    "    r_fact=fact(r)\n",
    "    n_r_fact=fact(n-r)\n",
    "    ans=n_fact//(r_fact*n_r_fact)\n",
    "    return ans\n"
   ]
  },
  {
   "cell_type": "code",
   "execution_count": 41,
   "metadata": {},
   "outputs": [
    {
     "data": {
      "text/plain": [
       "10"
      ]
     },
     "execution_count": 41,
     "metadata": {},
     "output_type": "execute_result"
    }
   ],
   "source": [
    "nCr(5,2)"
   ]
  },
  {
   "cell_type": "code",
   "execution_count": null,
   "metadata": {},
   "outputs": [],
   "source": [
    "##prime"
   ]
  },
  {
   "cell_type": "code",
   "execution_count": 21,
   "metadata": {},
   "outputs": [
    {
     "name": "stdout",
     "output_type": "stream",
     "text": [
      "16\n"
     ]
    },
    {
     "data": {
      "text/plain": [
       "False"
      ]
     },
     "execution_count": 21,
     "metadata": {},
     "output_type": "execute_result"
    }
   ],
   "source": [
    "def isPrime(n):\n",
    "    for i in range (2,n):\n",
    "        if n%i==0:\n",
    "            break\n",
    "    else:\n",
    "            return True\n",
    "    return False\n",
    "    \n",
    "n=int(input())\n",
    "isPrime(n)\n",
    "\n"
   ]
  },
  {
   "cell_type": "code",
   "execution_count": 22,
   "metadata": {},
   "outputs": [
    {
     "name": "stdout",
     "output_type": "stream",
     "text": [
      "2\n",
      "3\n",
      "5\n",
      "7\n",
      "11\n",
      "13\n"
     ]
    }
   ],
   "source": [
    "for j in range(2,n+1):\n",
    "    status=isPrime(j)\n",
    "    if status:\n",
    "        print(j)\n"
   ]
  },
  {
   "cell_type": "markdown",
   "metadata": {},
   "source": [
    "##Assignments"
   ]
  },
  {
   "cell_type": "code",
   "execution_count": 2,
   "metadata": {},
   "outputs": [
    {
     "name": "stdout",
     "output_type": "stream",
     "text": [
      "36\n",
      "618\n",
      "78\n",
      "36 2\n",
      "114 45\n",
      "192 88\n",
      "270 132\n",
      "348 175\n",
      "426 218\n",
      "504 262\n",
      "582 305\n"
     ]
    }
   ],
   "source": [
    "\n",
    "\n",
    "\n",
    "def printTable(start,end,step):\n",
    "    \n",
    "    while (start <= end):\n",
    "        celcius = int((start-32)*5/9)\n",
    "        print(start,'\\t',celcius)\n",
    "       # print()\n",
    "        start = start + step\n",
    "\n",
    "\n",
    " \n",
    "s = int(input())\n",
    "e = int(input())\n",
    "step = int(input())\n",
    "printTable(s,e,step)\n",
    "\n",
    "\n",
    "\n"
   ]
  },
  {
   "cell_type": "code",
   "execution_count": null,
   "metadata": {},
   "outputs": [],
   "source": [
    "## If N is part of fibbonacci sequence"
   ]
  },
  {
   "cell_type": "code",
   "execution_count": 4,
   "metadata": {},
   "outputs": [
    {
     "name": "stdout",
     "output_type": "stream",
     "text": [
      "3\n",
      "0\n",
      "1\n",
      "1\n",
      "2\n",
      "3\n",
      "true\n"
     ]
    }
   ],
   "source": [
    "\n",
    "def checkMember(n):\n",
    "    \n",
    "#Implement Your Code Here\n",
    "    a=0\n",
    "    b=1\n",
    "    while(a<=n):\n",
    "        print(a)\n",
    "        if a==n:\n",
    "            return True\n",
    "        c=a+b\n",
    "        a=b\n",
    "        b=c\n",
    "    return False\n",
    "\n",
    "n=int(input())\n",
    "if(checkMember(n)):\n",
    "    print(\"true\")\n",
    "else:\n",
    "    print(\"false\")"
   ]
  },
  {
   "cell_type": "code",
   "execution_count": 13,
   "metadata": {},
   "outputs": [
    {
     "name": "stdout",
     "output_type": "stream",
     "text": [
      "141\n",
      "1\n",
      "100\n",
      "4\n",
      "140\n",
      "1\n",
      "141\n",
      "0\n",
      "141\n",
      "141\n",
      "true\n"
     ]
    }
   ],
   "source": [
    "##palindrome number\n",
    "\n",
    "\n",
    "def checkPalindrome(num):\n",
    "#Implement Your Code Here\n",
    "    a=num\n",
    "    count=1\n",
    "    while(a!=0):\n",
    "        a=a//10\n",
    "        if a!=0:\n",
    "            count+=1\n",
    "    #print(count)\n",
    "    b=num\n",
    "    sum=0\n",
    "    while(count>=0):\n",
    "        c=b%10\n",
    "     #   print(c)\n",
    "        sum +=int(c*(10**(count-1)))\n",
    "        \n",
    "       # print(sum)\n",
    "        b=b//10\n",
    "        count -=1\n",
    "    #print(sum)\n",
    "    if sum==num:\n",
    "        return True\n",
    "        \n",
    "    \n",
    "    \n",
    "num = int(input())\n",
    "isPalindrome = checkPalindrome(num)\n",
    "if(isPalindrome):\n",
    "    print('true')\n",
    "else:\n",
    "    print('false')\n"
   ]
  },
  {
   "cell_type": "markdown",
   "metadata": {},
   "source": [
    "## isArmstrong"
   ]
  },
  {
   "cell_type": "code",
   "execution_count": 20,
   "metadata": {},
   "outputs": [
    {
     "name": "stdout",
     "output_type": "stream",
     "text": [
      "371\n",
      "true\n"
     ]
    }
   ],
   "source": [
    "def IsArmstrong(n):\n",
    "    a=n\n",
    "    count=1\n",
    "    while(a!=0):\n",
    "        a=a//10\n",
    "        if a!=0:\n",
    "            count+=1\n",
    "    b=n\n",
    "    sum=0\n",
    "    k=count\n",
    "   # print(k)\n",
    "    while(count>0):\n",
    "        \n",
    "        c=b%10\n",
    "        sum=int(sum+c**(k))\n",
    "     #   print(sum)\n",
    "        b=b//10\n",
    "        count -=1\n",
    "    #print(sum)\n",
    "    if sum==n:\n",
    "        return True\n",
    "        \n",
    "        \n",
    "    \n",
    "n=int(input())\n",
    "if(IsArmstrong(n)):\n",
    "    print('true')\n",
    "else:\n",
    "    print('false')\n"
   ]
  }
 ],
 "metadata": {
  "kernelspec": {
   "display_name": "Python 3",
   "language": "python",
   "name": "python3"
  },
  "language_info": {
   "codemirror_mode": {
    "name": "ipython",
    "version": 3
   },
   "file_extension": ".py",
   "mimetype": "text/x-python",
   "name": "python",
   "nbconvert_exporter": "python",
   "pygments_lexer": "ipython3",
   "version": "3.7.8"
  }
 },
 "nbformat": 4,
 "nbformat_minor": 4
}
