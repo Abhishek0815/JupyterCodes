{
 "cells": [
  {
   "cell_type": "code",
   "execution_count": 2,
   "metadata": {},
   "outputs": [],
   "source": [
    "def fact(n):\n",
    "    if n==0:\n",
    "        return 1\n",
    "    return n*fact(n-1)"
   ]
  },
  {
   "cell_type": "code",
   "execution_count": 10,
   "metadata": {},
   "outputs": [],
   "source": [
    "def sum_n(n):\n",
    "    if n==0:\n",
    "        return 0\n",
    "    out_previous=sum_n(n-1)\n",
    "    out=n+out_previous\n",
    "    return out"
   ]
  },
  {
   "cell_type": "code",
   "execution_count": 19,
   "metadata": {},
   "outputs": [
    {
     "data": {
      "text/plain": [
       "10"
      ]
     },
     "execution_count": 19,
     "metadata": {},
     "output_type": "execute_result"
    }
   ],
   "source": [
    "t=sum_n(4)\n",
    "t"
   ]
  },
  {
   "cell_type": "markdown",
   "metadata": {},
   "source": [
    "Power Of A Number\n",
    "Send Feedback\n",
    "Write a program to find x to the power n (i.e. x^n). Take x and n from the user. You need to print the answer.\n",
    "Note : For this question, you can assume that 0 raised to the power of 0 is 1\n",
    "\n",
    "\n",
    "Input format :\n",
    "Two integers x and n (separated by space)\n",
    "Output Format :\n",
    "x^n (i.e. x raise to the power n)\n",
    "Constraints:\n",
    "0 <= x <= 8 \n",
    "0 <= n <= 9\n",
    "Sample Input 1 :\n",
    " 3 4\n",
    "Sample Output 1 :\n",
    "81\n",
    "Sample Input 2 :\n",
    " 2 5\n",
    "Sample Output 2 :\n",
    "32"
   ]
  },
  {
   "cell_type": "code",
   "execution_count": 30,
   "metadata": {},
   "outputs": [
    {
     "name": "stdout",
     "output_type": "stream",
     "text": [
      "5\n",
      "3\n",
      "125\n"
     ]
    }
   ],
   "source": [
    "def Powern(x,n):\n",
    "    if n==0:\n",
    "        return 1\n",
    "    return x*Powern(x,n-1)\n",
    "\n",
    "s=input().split()\n",
    "x=int(s[0])\n",
    "n=int(s[1])\n",
    "t=Powern(x,n)\n",
    "print(t)"
   ]
  },
  {
   "cell_type": "markdown",
   "metadata": {},
   "source": [
    "Print 1 to n and nto 1 using recursion"
   ]
  },
  {
   "cell_type": "code",
   "execution_count": 2,
   "metadata": {},
   "outputs": [
    {
     "name": "stdout",
     "output_type": "stream",
     "text": [
      "5\n",
      "1\n",
      "2\n",
      "3\n",
      "4\n",
      "5\n"
     ]
    }
   ],
   "source": [
    "def one_to_n(n):\n",
    "    if n==0:\n",
    "        return\n",
    "    one_to_n(n-1)\n",
    "    print(n)\n",
    "n=int(input())\n",
    "one_to_n(n)"
   ]
  },
  {
   "cell_type": "code",
   "execution_count": 3,
   "metadata": {},
   "outputs": [
    {
     "name": "stdout",
     "output_type": "stream",
     "text": [
      "6\n",
      "5\n",
      "4\n",
      "3\n",
      "2\n",
      "1\n"
     ]
    }
   ],
   "source": [
    "def n_to_one(n):\n",
    "    if n==0:\n",
    "        return\n",
    "    print(n)\n",
    "    n_to_one(n-1)\n",
    "n=6\n",
    "n_to_one(n)\n",
    "    \n",
    "    "
   ]
  },
  {
   "cell_type": "markdown",
   "metadata": {},
   "source": [
    "IS list SORTED or NOT??"
   ]
  },
  {
   "cell_type": "code",
   "execution_count": 7,
   "metadata": {},
   "outputs": [
    {
     "data": {
      "text/plain": [
       "False"
      ]
     },
     "execution_count": 7,
     "metadata": {},
     "output_type": "execute_result"
    }
   ],
   "source": [
    "def isListSorted(a):\n",
    "    l=len(a)\n",
    "    if l==0 or l==1:\n",
    "        return True\n",
    "    if a[0] > a[1]:\n",
    "        return False\n",
    "    smallerList=a[1:]\n",
    "    out=isListSorted(smallerList)\n",
    "    return out\n",
    "a=[1,2,3,44,5,6]\n",
    "isListSorted(a)"
   ]
  },
  {
   "cell_type": "code",
   "execution_count": 10,
   "metadata": {},
   "outputs": [
    {
     "name": "stdout",
     "output_type": "stream",
     "text": [
      "4\n",
      "1 2 3 4 5\n"
     ]
    }
   ],
   "source": [
    "n=int(input())\n",
    "arr=[int(i) for i in input().split(' ')]\n"
   ]
  },
  {
   "cell_type": "code",
   "execution_count": 11,
   "metadata": {},
   "outputs": [
    {
     "data": {
      "text/plain": [
       "[1, 2, 3, 4, 5]"
      ]
     },
     "execution_count": 11,
     "metadata": {},
     "output_type": "execute_result"
    }
   ],
   "source": [
    "arr"
   ]
  },
  {
   "cell_type": "code",
   "execution_count": null,
   "metadata": {},
   "outputs": [],
   "source": [
    "Sum Of Array\n",
    "Send Feedback\n",
    "Given an array of length N, you need to find and return the sum of all elements of the array.\n",
    "Do this recursively.\n",
    "Input Format :\n",
    "Line 1 : An Integer N i.e. size of array\n",
    "Line 2 : N integers which are elements of the array, separated by spaces\n",
    "Output Format :\n",
    "Sum"
   ]
  },
  {
   "cell_type": "code",
   "execution_count": null,
   "metadata": {},
   "outputs": [],
   "source": [
    "def sumArray(arr):\n",
    "    l=len(arr)\n",
    "    if l==0:\n",
    "        return 0\n",
    "    arr2=arr[1:]\n",
    "    sum=arr[0]+sumArray(arr2)\n",
    "    return sum\n",
    "    \n",
    "\n",
    "# Main\n",
    "from sys import setrecursionlimit\n",
    "setrecursionlimit(11000)\n",
    "n=int(input())\n",
    "arr=list(int(i) for i in input().strip().split(' '))\n",
    "print(sumArray(arr))\n"
   ]
  },
  {
   "cell_type": "code",
   "execution_count": null,
   "metadata": {},
   "outputs": [],
   "source": [
    "Check Number in Array\n",
    "Send Feedback\n",
    "Given an array of length N and an integer x, you need to find if x is present in the array or not. Return true or false.\n",
    "Do this recursively.\n",
    "Input Format :\n",
    "Line 1 : An Integer N i.e. size of array\n",
    "Line 2 : N integers which are elements of the array, separated by spaces\n",
    "Line 3 : Integer x\n",
    "Output Format :\n",
    "'true' or 'false'"
   ]
  },
  {
   "cell_type": "code",
   "execution_count": 13,
   "metadata": {},
   "outputs": [
    {
     "name": "stdout",
     "output_type": "stream",
     "text": [
      "4\n",
      "2 1 3 4\n",
      "3\n",
      "true\n"
     ]
    }
   ],
   "source": [
    "def checkNumber(arr, x):\n",
    "    l=len(arr)\n",
    "    if l==0:\n",
    "        return False\n",
    "    if arr[0]==x:\n",
    "        return True\n",
    "    arr2=arr[1:]\n",
    "    out=checkNumber(arr2,x)\n",
    "    return out\n",
    "# Main\n",
    "from sys import setrecursionlimit\n",
    "setrecursionlimit(11000)\n",
    "n=int(input())\n",
    "arr=list(int(i) for i in input().strip().split(' '))\n",
    "x=int(input())\n",
    "if checkNumber(arr, x):\n",
    "    print('true')\n",
    "else:\n",
    "    print('false')\n"
   ]
  }
 ],
 "metadata": {
  "kernelspec": {
   "display_name": "Python 3",
   "language": "python",
   "name": "python3"
  },
  "language_info": {
   "codemirror_mode": {
    "name": "ipython",
    "version": 3
   },
   "file_extension": ".py",
   "mimetype": "text/x-python",
   "name": "python",
   "nbconvert_exporter": "python",
   "pygments_lexer": "ipython3",
   "version": "3.8.3"
  }
 },
 "nbformat": 4,
 "nbformat_minor": 4
}
