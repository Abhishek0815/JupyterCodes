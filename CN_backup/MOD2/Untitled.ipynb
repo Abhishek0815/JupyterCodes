{
 "cells": [
  {
   "cell_type": "markdown",
   "metadata": {},
   "source": [
    "check if list is sorted:meathod2"
   ]
  },
  {
   "cell_type": "code",
   "execution_count": 4,
   "metadata": {},
   "outputs": [
    {
     "data": {
      "text/plain": [
       "True"
      ]
     },
     "execution_count": 4,
     "metadata": {},
     "output_type": "execute_result"
    }
   ],
   "source": [
    "def is_sorted(a,si):\n",
    "    l=len(a)\n",
    "    if si==l-1 or l==0:\n",
    "        return True\n",
    "    if a[si]>a[si+1]:\n",
    "        return False\n",
    "    out=is_sorted(a,si+1)\n",
    "    return out\n",
    "a=[1,2,3,40,51]\n",
    "is_sorted(a,0)"
   ]
  },
  {
   "cell_type": "markdown",
   "metadata": {},
   "source": [
    "find index of number--------M1"
   ]
  },
  {
   "cell_type": "code",
   "execution_count": 14,
   "metadata": {},
   "outputs": [
    {
     "name": "stdout",
     "output_type": "stream",
     "text": [
      "15 24 58 61 79 3 97 81 81 45 62 21 72 72 68 45 11 50 87 20 28 77 51 89 58 66\n",
      "23\n",
      "-1\n"
     ]
    }
   ],
   "source": [
    "def firstIndex(a, x,count):\n",
    "    # Please add your code here\n",
    "    l=len(a)\n",
    "    if l==0:\n",
    "        return -1\n",
    "    if a[0]==x:\n",
    "        return count\n",
    "    a2= a[1:]\n",
    "    out=firstIndex(a2,x,count+1)\n",
    "    return out\n",
    "\n",
    "# Main\n",
    "from sys import setrecursionlimit\n",
    "setrecursionlimit(11000)\n",
    "n=int(input())\n",
    "arr=list(int(i) for i in input().strip().split(' '))\n",
    "x=int(input())\n",
    "print(firstIndex(arr, x,0))\n"
   ]
  },
  {
   "cell_type": "code",
   "execution_count": null,
   "metadata": {},
   "outputs": [],
   "source": [
    "Meathod 2"
   ]
  },
  {
   "cell_type": "code",
   "execution_count": null,
   "metadata": {},
   "outputs": [],
   "source": [
    "def first_index(a,si,x):\n",
    "    l=len(a)\n",
    "    if l==0 or si==l-1:\n",
    "        return -1\n",
    "    if a[si]==x:\n",
    "        return si\n",
    "    out=first_index(a,si+1,x)\n",
    "    return out\n",
    "from sys import setrecursionlimit\n",
    "setrecursionlimit(11000)\n",
    "n=int(input())\n",
    "arr=list(int(i) for i in input().strip().split(' '))\n",
    "x=int(input())\n",
    "print(first_index(arr,0,x))\n"
   ]
  }
 ],
 "metadata": {
  "kernelspec": {
   "display_name": "Python 3",
   "language": "python",
   "name": "python3"
  },
  "language_info": {
   "codemirror_mode": {
    "name": "ipython",
    "version": 3
   },
   "file_extension": ".py",
   "mimetype": "text/x-python",
   "name": "python",
   "nbconvert_exporter": "python",
   "pygments_lexer": "ipython3",
   "version": "3.8.3"
  }
 },
 "nbformat": 4,
 "nbformat_minor": 4
}
